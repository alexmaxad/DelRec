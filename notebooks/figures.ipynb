{
 "cells": [
  {
   "cell_type": "code",
   "execution_count": 2,
   "metadata": {},
   "outputs": [],
   "source": [
    "import pandas as pd\n",
    "import plotly.graph_objects as go\n",
    "import plotly.express as px \n",
    "import numpy as np\n",
    "import os\n",
    "import math\n"
   ]
  },
  {
   "cell_type": "markdown",
   "metadata": {},
   "source": [
    "# Accuracies"
   ]
  },
  {
   "cell_type": "code",
   "execution_count": null,
   "metadata": {},
   "outputs": [
    {
     "name": "stdout",
     "output_type": "stream",
     "text": [
      "Saved SVG to: ../figures/accuracy_best_bar.svg\n"
     ]
    },
    {
     "data": {
      "application/vnd.plotly.v1+json": {
       "config": {
        "plotlyServerURL": "https://plot.ly"
       },
       "data": [
        {
         "customdata": {
          "bdata": "AAAAAAAZxECYezT6d3nrPwAAAAAABMRAJvhQV/zD8D8AAAAAAATEQDsCVFM8+u8/AAAAAABpxEB3Skl2v5P1PwAAAAAAiMVA0qmaXDyl5j8AAAAAAATEQJ9ftbMfhP0/",
          "dtype": "f8",
          "shape": "6, 2"
         },
         "error_y": {
          "array": {
           "bdata": "mHs0+nd56z8m+FBX/MPwPzsCVFM8+u8/d0pJdr+T9T/SqZpcPKXmP59ftbMfhP0/",
           "dtype": "f8"
          },
          "color": "black",
          "thickness": 1.5,
          "type": "data",
          "visible": true,
          "width": 8
         },
         "hovertemplate": "<b>%{x}</b><br>Params: %{customdata[0]}<br>Acc: %{y:.2f}%<br>SEM: %{customdata[1]:.2f}%<extra></extra>",
         "marker": {
          "color": [
           "#636EFA",
           "#EF553B",
           "#00CC96",
           "#AB63FA",
           "#FFA15A",
           "#19D3F3"
          ],
          "line": {
           "color": "black",
           "width": 0.6
          }
         },
         "name": "",
         "text": [
          "10k",
          "10k",
          "10k",
          "10k",
          "11k",
          "10k"
         ],
         "textfont": {
          "size": 12
         },
         "textposition": "outside",
         "type": "bar",
         "x": [
          "SNN_recurrent_delays",
          "SNN_fixed_recurrent_delays",
          "SNN_feedforward_delays",
          "SNN_recurrent_and_feedforward_delays",
          "SNN",
          "SNN_vanilla_recurrent"
         ],
         "y": {
          "bdata": "6m2fylc3VECc5P11MO9TQOGAeRbAj1NA2e/dyGRyUkBwkvfXwbxNQD9narlwtURA",
          "dtype": "f8"
         }
        }
       ],
       "layout": {
        "bargap": 0.12,
        "bargroupgap": 0,
        "font": {
         "family": "Times New Roman, serif",
         "size": 16
        },
        "height": 500,
        "margin": {
         "b": 80,
         "l": 80,
         "r": 20,
         "t": 40
        },
        "showlegend": false,
        "template": {
         "data": {
          "bar": [
           {
            "error_x": {
             "color": "#2a3f5f"
            },
            "error_y": {
             "color": "#2a3f5f"
            },
            "marker": {
             "line": {
              "color": "white",
              "width": 0.5
             },
             "pattern": {
              "fillmode": "overlay",
              "size": 10,
              "solidity": 0.2
             }
            },
            "type": "bar"
           }
          ],
          "barpolar": [
           {
            "marker": {
             "line": {
              "color": "white",
              "width": 0.5
             },
             "pattern": {
              "fillmode": "overlay",
              "size": 10,
              "solidity": 0.2
             }
            },
            "type": "barpolar"
           }
          ],
          "carpet": [
           {
            "aaxis": {
             "endlinecolor": "#2a3f5f",
             "gridcolor": "#C8D4E3",
             "linecolor": "#C8D4E3",
             "minorgridcolor": "#C8D4E3",
             "startlinecolor": "#2a3f5f"
            },
            "baxis": {
             "endlinecolor": "#2a3f5f",
             "gridcolor": "#C8D4E3",
             "linecolor": "#C8D4E3",
             "minorgridcolor": "#C8D4E3",
             "startlinecolor": "#2a3f5f"
            },
            "type": "carpet"
           }
          ],
          "choropleth": [
           {
            "colorbar": {
             "outlinewidth": 0,
             "ticks": ""
            },
            "type": "choropleth"
           }
          ],
          "contour": [
           {
            "colorbar": {
             "outlinewidth": 0,
             "ticks": ""
            },
            "colorscale": [
             [
              0,
              "#0d0887"
             ],
             [
              0.1111111111111111,
              "#46039f"
             ],
             [
              0.2222222222222222,
              "#7201a8"
             ],
             [
              0.3333333333333333,
              "#9c179e"
             ],
             [
              0.4444444444444444,
              "#bd3786"
             ],
             [
              0.5555555555555556,
              "#d8576b"
             ],
             [
              0.6666666666666666,
              "#ed7953"
             ],
             [
              0.7777777777777778,
              "#fb9f3a"
             ],
             [
              0.8888888888888888,
              "#fdca26"
             ],
             [
              1,
              "#f0f921"
             ]
            ],
            "type": "contour"
           }
          ],
          "contourcarpet": [
           {
            "colorbar": {
             "outlinewidth": 0,
             "ticks": ""
            },
            "type": "contourcarpet"
           }
          ],
          "heatmap": [
           {
            "colorbar": {
             "outlinewidth": 0,
             "ticks": ""
            },
            "colorscale": [
             [
              0,
              "#0d0887"
             ],
             [
              0.1111111111111111,
              "#46039f"
             ],
             [
              0.2222222222222222,
              "#7201a8"
             ],
             [
              0.3333333333333333,
              "#9c179e"
             ],
             [
              0.4444444444444444,
              "#bd3786"
             ],
             [
              0.5555555555555556,
              "#d8576b"
             ],
             [
              0.6666666666666666,
              "#ed7953"
             ],
             [
              0.7777777777777778,
              "#fb9f3a"
             ],
             [
              0.8888888888888888,
              "#fdca26"
             ],
             [
              1,
              "#f0f921"
             ]
            ],
            "type": "heatmap"
           }
          ],
          "histogram": [
           {
            "marker": {
             "pattern": {
              "fillmode": "overlay",
              "size": 10,
              "solidity": 0.2
             }
            },
            "type": "histogram"
           }
          ],
          "histogram2d": [
           {
            "colorbar": {
             "outlinewidth": 0,
             "ticks": ""
            },
            "colorscale": [
             [
              0,
              "#0d0887"
             ],
             [
              0.1111111111111111,
              "#46039f"
             ],
             [
              0.2222222222222222,
              "#7201a8"
             ],
             [
              0.3333333333333333,
              "#9c179e"
             ],
             [
              0.4444444444444444,
              "#bd3786"
             ],
             [
              0.5555555555555556,
              "#d8576b"
             ],
             [
              0.6666666666666666,
              "#ed7953"
             ],
             [
              0.7777777777777778,
              "#fb9f3a"
             ],
             [
              0.8888888888888888,
              "#fdca26"
             ],
             [
              1,
              "#f0f921"
             ]
            ],
            "type": "histogram2d"
           }
          ],
          "histogram2dcontour": [
           {
            "colorbar": {
             "outlinewidth": 0,
             "ticks": ""
            },
            "colorscale": [
             [
              0,
              "#0d0887"
             ],
             [
              0.1111111111111111,
              "#46039f"
             ],
             [
              0.2222222222222222,
              "#7201a8"
             ],
             [
              0.3333333333333333,
              "#9c179e"
             ],
             [
              0.4444444444444444,
              "#bd3786"
             ],
             [
              0.5555555555555556,
              "#d8576b"
             ],
             [
              0.6666666666666666,
              "#ed7953"
             ],
             [
              0.7777777777777778,
              "#fb9f3a"
             ],
             [
              0.8888888888888888,
              "#fdca26"
             ],
             [
              1,
              "#f0f921"
             ]
            ],
            "type": "histogram2dcontour"
           }
          ],
          "mesh3d": [
           {
            "colorbar": {
             "outlinewidth": 0,
             "ticks": ""
            },
            "type": "mesh3d"
           }
          ],
          "parcoords": [
           {
            "line": {
             "colorbar": {
              "outlinewidth": 0,
              "ticks": ""
             }
            },
            "type": "parcoords"
           }
          ],
          "pie": [
           {
            "automargin": true,
            "type": "pie"
           }
          ],
          "scatter": [
           {
            "fillpattern": {
             "fillmode": "overlay",
             "size": 10,
             "solidity": 0.2
            },
            "type": "scatter"
           }
          ],
          "scatter3d": [
           {
            "line": {
             "colorbar": {
              "outlinewidth": 0,
              "ticks": ""
             }
            },
            "marker": {
             "colorbar": {
              "outlinewidth": 0,
              "ticks": ""
             }
            },
            "type": "scatter3d"
           }
          ],
          "scattercarpet": [
           {
            "marker": {
             "colorbar": {
              "outlinewidth": 0,
              "ticks": ""
             }
            },
            "type": "scattercarpet"
           }
          ],
          "scattergeo": [
           {
            "marker": {
             "colorbar": {
              "outlinewidth": 0,
              "ticks": ""
             }
            },
            "type": "scattergeo"
           }
          ],
          "scattergl": [
           {
            "marker": {
             "colorbar": {
              "outlinewidth": 0,
              "ticks": ""
             }
            },
            "type": "scattergl"
           }
          ],
          "scattermap": [
           {
            "marker": {
             "colorbar": {
              "outlinewidth": 0,
              "ticks": ""
             }
            },
            "type": "scattermap"
           }
          ],
          "scattermapbox": [
           {
            "marker": {
             "colorbar": {
              "outlinewidth": 0,
              "ticks": ""
             }
            },
            "type": "scattermapbox"
           }
          ],
          "scatterpolar": [
           {
            "marker": {
             "colorbar": {
              "outlinewidth": 0,
              "ticks": ""
             }
            },
            "type": "scatterpolar"
           }
          ],
          "scatterpolargl": [
           {
            "marker": {
             "colorbar": {
              "outlinewidth": 0,
              "ticks": ""
             }
            },
            "type": "scatterpolargl"
           }
          ],
          "scatterternary": [
           {
            "marker": {
             "colorbar": {
              "outlinewidth": 0,
              "ticks": ""
             }
            },
            "type": "scatterternary"
           }
          ],
          "surface": [
           {
            "colorbar": {
             "outlinewidth": 0,
             "ticks": ""
            },
            "colorscale": [
             [
              0,
              "#0d0887"
             ],
             [
              0.1111111111111111,
              "#46039f"
             ],
             [
              0.2222222222222222,
              "#7201a8"
             ],
             [
              0.3333333333333333,
              "#9c179e"
             ],
             [
              0.4444444444444444,
              "#bd3786"
             ],
             [
              0.5555555555555556,
              "#d8576b"
             ],
             [
              0.6666666666666666,
              "#ed7953"
             ],
             [
              0.7777777777777778,
              "#fb9f3a"
             ],
             [
              0.8888888888888888,
              "#fdca26"
             ],
             [
              1,
              "#f0f921"
             ]
            ],
            "type": "surface"
           }
          ],
          "table": [
           {
            "cells": {
             "fill": {
              "color": "#EBF0F8"
             },
             "line": {
              "color": "white"
             }
            },
            "header": {
             "fill": {
              "color": "#C8D4E3"
             },
             "line": {
              "color": "white"
             }
            },
            "type": "table"
           }
          ]
         },
         "layout": {
          "annotationdefaults": {
           "arrowcolor": "#2a3f5f",
           "arrowhead": 0,
           "arrowwidth": 1
          },
          "autotypenumbers": "strict",
          "coloraxis": {
           "colorbar": {
            "outlinewidth": 0,
            "ticks": ""
           }
          },
          "colorscale": {
           "diverging": [
            [
             0,
             "#8e0152"
            ],
            [
             0.1,
             "#c51b7d"
            ],
            [
             0.2,
             "#de77ae"
            ],
            [
             0.3,
             "#f1b6da"
            ],
            [
             0.4,
             "#fde0ef"
            ],
            [
             0.5,
             "#f7f7f7"
            ],
            [
             0.6,
             "#e6f5d0"
            ],
            [
             0.7,
             "#b8e186"
            ],
            [
             0.8,
             "#7fbc41"
            ],
            [
             0.9,
             "#4d9221"
            ],
            [
             1,
             "#276419"
            ]
           ],
           "sequential": [
            [
             0,
             "#0d0887"
            ],
            [
             0.1111111111111111,
             "#46039f"
            ],
            [
             0.2222222222222222,
             "#7201a8"
            ],
            [
             0.3333333333333333,
             "#9c179e"
            ],
            [
             0.4444444444444444,
             "#bd3786"
            ],
            [
             0.5555555555555556,
             "#d8576b"
            ],
            [
             0.6666666666666666,
             "#ed7953"
            ],
            [
             0.7777777777777778,
             "#fb9f3a"
            ],
            [
             0.8888888888888888,
             "#fdca26"
            ],
            [
             1,
             "#f0f921"
            ]
           ],
           "sequentialminus": [
            [
             0,
             "#0d0887"
            ],
            [
             0.1111111111111111,
             "#46039f"
            ],
            [
             0.2222222222222222,
             "#7201a8"
            ],
            [
             0.3333333333333333,
             "#9c179e"
            ],
            [
             0.4444444444444444,
             "#bd3786"
            ],
            [
             0.5555555555555556,
             "#d8576b"
            ],
            [
             0.6666666666666666,
             "#ed7953"
            ],
            [
             0.7777777777777778,
             "#fb9f3a"
            ],
            [
             0.8888888888888888,
             "#fdca26"
            ],
            [
             1,
             "#f0f921"
            ]
           ]
          },
          "colorway": [
           "#636efa",
           "#EF553B",
           "#00cc96",
           "#ab63fa",
           "#FFA15A",
           "#19d3f3",
           "#FF6692",
           "#B6E880",
           "#FF97FF",
           "#FECB52"
          ],
          "font": {
           "color": "#2a3f5f"
          },
          "geo": {
           "bgcolor": "white",
           "lakecolor": "white",
           "landcolor": "white",
           "showlakes": true,
           "showland": true,
           "subunitcolor": "#C8D4E3"
          },
          "hoverlabel": {
           "align": "left"
          },
          "hovermode": "closest",
          "mapbox": {
           "style": "light"
          },
          "paper_bgcolor": "white",
          "plot_bgcolor": "white",
          "polar": {
           "angularaxis": {
            "gridcolor": "#EBF0F8",
            "linecolor": "#EBF0F8",
            "ticks": ""
           },
           "bgcolor": "white",
           "radialaxis": {
            "gridcolor": "#EBF0F8",
            "linecolor": "#EBF0F8",
            "ticks": ""
           }
          },
          "scene": {
           "xaxis": {
            "backgroundcolor": "white",
            "gridcolor": "#DFE8F3",
            "gridwidth": 2,
            "linecolor": "#EBF0F8",
            "showbackground": true,
            "ticks": "",
            "zerolinecolor": "#EBF0F8"
           },
           "yaxis": {
            "backgroundcolor": "white",
            "gridcolor": "#DFE8F3",
            "gridwidth": 2,
            "linecolor": "#EBF0F8",
            "showbackground": true,
            "ticks": "",
            "zerolinecolor": "#EBF0F8"
           },
           "zaxis": {
            "backgroundcolor": "white",
            "gridcolor": "#DFE8F3",
            "gridwidth": 2,
            "linecolor": "#EBF0F8",
            "showbackground": true,
            "ticks": "",
            "zerolinecolor": "#EBF0F8"
           }
          },
          "shapedefaults": {
           "line": {
            "color": "#2a3f5f"
           }
          },
          "ternary": {
           "aaxis": {
            "gridcolor": "#DFE8F3",
            "linecolor": "#A2B1C6",
            "ticks": ""
           },
           "baxis": {
            "gridcolor": "#DFE8F3",
            "linecolor": "#A2B1C6",
            "ticks": ""
           },
           "bgcolor": "white",
           "caxis": {
            "gridcolor": "#DFE8F3",
            "linecolor": "#A2B1C6",
            "ticks": ""
           }
          },
          "title": {
           "x": 0.05
          },
          "xaxis": {
           "automargin": true,
           "gridcolor": "#EBF0F8",
           "linecolor": "#EBF0F8",
           "ticks": "",
           "title": {
            "standoff": 15
           },
           "zerolinecolor": "#EBF0F8",
           "zerolinewidth": 2
          },
          "yaxis": {
           "automargin": true,
           "gridcolor": "#EBF0F8",
           "linecolor": "#EBF0F8",
           "ticks": "",
           "title": {
            "standoff": 15
           },
           "zerolinecolor": "#EBF0F8",
           "zerolinewidth": 2
          }
         }
        },
        "width": 800,
        "xaxis": {
         "categoryarray": [
          "SNN_vanilla_recurrent",
          "SNN",
          "SNN_recurrent_and_feedforward_delays",
          "SNN_feedforward_delays",
          "SNN_fixed_recurrent_delays",
          "SNN_recurrent_delays"
         ],
         "categoryorder": "array",
         "title": {
          "text": "Model"
         }
        },
        "yaxis": {
         "dtick": 10,
         "gridcolor": "rgba(0,0,0,0.08)",
         "gridwidth": 1,
         "linecolor": "black",
         "linewidth": 2,
         "minor": {
          "dtick": 5,
          "gridcolor": "rgba(0,0,0,0.05)",
          "gridwidth": 0.5,
          "showgrid": true,
          "tick0": 5,
          "ticklen": 3,
          "tickmode": "linear",
          "ticks": "outside"
         },
         "range": [
          30,
          83.86473336762688
         ],
         "showgrid": true,
         "showline": true,
         "tick0": 10,
         "tickcolor": "black",
         "tickformat": ".0f",
         "ticklabelposition": "outside",
         "ticklen": 6,
         "ticks": "outside",
         "ticksuffix": "%",
         "tickwidth": 1.8,
         "title": {
          "text": "Test accuracy (%)"
         }
        }
       }
      }
     },
     "metadata": {},
     "output_type": "display_data"
    }
   ],
   "source": [
    "csv_path = None # e.g \"../exp/..\" : the path to the CSV file with SHD_equiparams results \n",
    "figure_path = \"../figures/\"\n",
    "use_log_x = False\n",
    "acc_in_pct = True\n",
    "\n",
    "df = pd.read_csv(csv_path)\n",
    "\n",
    "df = df.dropna(subset=[\"model\", \"num_params\", \"final_test_acc\", \"seed\"])\n",
    "df[\"num_params\"] = pd.to_numeric(df[\"num_params\"], errors=\"coerce\")\n",
    "df = df.dropna(subset=[\"num_params\"])\n",
    "df[\"num_params\"] = df[\"num_params\"].astype(int)\n",
    "\n",
    "df = df.sort_index().drop_duplicates(subset=[\"model\", \"num_params\", \"seed\"], keep=\"last\")\n",
    "\n",
    "grp = (\n",
    "    df.groupby([\"model\", \"num_params\"])\n",
    "      .agg(\n",
    "          mean_acc=(\"final_test_acc\", \"mean\"),\n",
    "          std_acc=(\"final_test_acc\", \"std\"),\n",
    "          n=(\"seed\", \"nunique\"),\n",
    "      )\n",
    "      .reset_index()\n",
    ")\n",
    "\n",
    "grp[\"sem_acc\"] = grp.apply(\n",
    "    lambda r: 0.0 if (pd.isna(r[\"std_acc\"]) or r[\"n\"] <= 1) else r[\"std_acc\"] / math.sqrt(r[\"n\"]),\n",
    "    axis=1\n",
    ")\n",
    "\n",
    "\n",
    "if acc_in_pct:\n",
    "    grp[\"std_acc_plot\"] = grp[\"std_acc\"]\n",
    "else:\n",
    "    grp[\"std_acc_plot\"] = 100.0 * grp[\"std_acc\"]\n",
    "\n",
    "acc_in_pct = grp[\"mean_acc\"].max() > 1.001\n",
    "if acc_in_pct:\n",
    "    grp[\"mean_acc_plot\"] = grp[\"mean_acc\"]\n",
    "    grp[\"sem_acc_plot\"]  = grp[\"sem_acc\"]\n",
    "    yaxis_title = \"Test accuracy (%)\"\n",
    "else:\n",
    "    grp[\"mean_acc_plot\"] = 100.0 * grp[\"mean_acc\"]\n",
    "    grp[\"sem_acc_plot\"]  = 100.0 * grp[\"sem_acc\"]\n",
    "    yaxis_title = \"Test accuracy (%)\"\n",
    "\n",
    "grp = grp.sort_values([\"model\", \"num_params\"]).reset_index(drop=True)\n",
    "\n",
    "best = (\n",
    "    grp.sort_values([\"model\", \"num_params\"])\n",
    "       .groupby(\"model\", as_index=False)\n",
    "       .tail(1)\n",
    "       .copy()\n",
    ")\n",
    "best = best.sort_values(\"mean_acc_plot\", ascending=False).reset_index(drop=True)\n",
    "\n",
    "def fmt_params(n):\n",
    "    if n >= 1_000_000:\n",
    "        return f\"{n/1_000_000:.2f}M\"\n",
    "    if n >= 1_000:\n",
    "        return f\"{int(round(n/1_000))}k\"\n",
    "    return str(n)\n",
    "\n",
    "best[\"params_label\"] = best[\"num_params\"].apply(fmt_params)\n",
    "\n",
    "palette = px.colors.qualitative.Plotly\n",
    "colors = [palette[i % len(palette)] for i in range(len(best))]\n",
    "\n",
    "y_min = 30\n",
    "y_max = float(best[\"mean_acc_plot\"].max())\n",
    "y_top = min(100.0, y_max + 3.0)\n",
    "\n",
    "fig = go.Figure()\n",
    "\n",
    "fig.add_trace(go.Bar(\n",
    "    x=best[\"model\"],\n",
    "    y=best[\"mean_acc_plot\"],\n",
    "    marker_color=colors,\n",
    "    text=best[\"params_label\"],\n",
    "    textposition=\"outside\",\n",
    "    textfont=dict(size=12),\n",
    "    error_y=dict(\n",
    "        type=\"data\",\n",
    "        array=best[\"sem_acc_plot\"],\n",
    "        visible=True,\n",
    "        color=\"black\",\n",
    "        thickness=1.5, \n",
    "        width=8,        \n",
    "    ),\n",
    "    customdata=np.c_[best[\"num_params\"], best[\"sem_acc_plot\"]],\n",
    "    hovertemplate=(\n",
    "        \"<b>%{x}</b><br>\"\n",
    "        \"Params: %{customdata[0]}<br>\"\n",
    "        \"Acc: %{y:.2f}%<br>\"\n",
    "        \"SEM: %{customdata[1]:.2f}%<extra></extra>\"\n",
    "    ),\n",
    "    name=\"\"\n",
    "))\n",
    "\n",
    "fig.update_xaxes(\n",
    "    title_text=\"Model\",\n",
    "    categoryorder=\"array\",\n",
    "    categoryarray=list(best[\"model\"])[::-1]\n",
    ")\n",
    "\n",
    "fig.update_yaxes(\n",
    "    title_text=yaxis_title if 'yaxis_title' in globals() else \"Test accuracy (%)\",\n",
    "    range=[y_min, y_top],\n",
    "    ticks=\"outside\",\n",
    "    tick0=10,          \n",
    "    dtick=10,          \n",
    "    ticklen=6,\n",
    "    tickwidth=1.8,\n",
    "    tickcolor=\"black\",\n",
    "    ticklabelposition=\"outside\",\n",
    "    tickformat=\".0f\", \n",
    "    ticksuffix=\"%\",\n",
    "    showline=True,\n",
    "    linecolor=\"black\",\n",
    "    linewidth=2,\n",
    "    showgrid=True,\n",
    "    gridcolor=\"rgba(0,0,0,0.08)\",\n",
    "    gridwidth=1\n",
    ")\n",
    "\n",
    "fig.update_yaxes(minor=dict(\n",
    "    tickmode=\"linear\",\n",
    "    dtick=5,\n",
    "    tick0=5,\n",
    "    ticks=\"outside\",\n",
    "    ticklen=3,\n",
    "    showgrid=True,\n",
    "    gridcolor=\"rgba(0,0,0,0.05)\",\n",
    "    gridwidth=0.5\n",
    "))\n",
    "\n",
    "fig.update_layout(\n",
    "    template=\"plotly_white\",\n",
    "    font=dict(family=\"Times New Roman, serif\", size=16),\n",
    "    showlegend=False,\n",
    "    bargap=0.12,              \n",
    "    bargroupgap=0.0,\n",
    "    height=500,\n",
    "    width=800,\n",
    "    margin=dict(l=80, r=20, t=40, b=80)\n",
    ")\n",
    "\n",
    "fig.update_traces(marker_line_color=\"black\", marker_line_width=0.6)\n",
    "\n",
    "os.makedirs(figure_path, exist_ok=True)\n",
    "\n",
    "bar_svg_path = os.path.join(os.path.dirname(figure_path), \"accuracy_best_bar.svg\")\n",
    "fig.write_image(bar_svg_path, format=\"svg\", width=800, height=500, scale=1)\n",
    "print(f\"Saved SVG to: {bar_svg_path}\")\n",
    "\n",
    "fig.show()"
   ]
  },
  {
   "cell_type": "markdown",
   "metadata": {},
   "source": [
    "# Accuracies as a function of parameters"
   ]
  },
  {
   "cell_type": "code",
   "execution_count": null,
   "metadata": {},
   "outputs": [
    {
     "name": "stdout",
     "output_type": "stream",
     "text": [
      "Saved SVG to: ../figures/accuracy_vs_params.svg\n"
     ]
    },
    {
     "data": {
      "application/vnd.plotly.v1+json": {
       "config": {
        "plotlyServerURL": "https://plot.ly"
       },
       "data": [
        {
         "hoverinfo": "skip",
         "legendgroup": "SNN",
         "line": {
          "width": 0
         },
         "mode": "lines",
         "showlegend": false,
         "type": "scatter",
         "x": {
          "bdata": "pAYAC6QPkBTEGUAfBCUQKw==",
          "dtype": "i2"
         },
         "y": {
          "bdata": "APTqAb3PP0DM7vYnKxpHQLPGDalPzUhAHL/SEWh9SkCre5NKFYFLQKmQ2oskdExABK9/77fxTEDJJ4XmLGJNQA==",
          "dtype": "f8"
         }
        },
        {
         "fill": "tonexty",
         "fillcolor": "rgba(99,110,250,0.18)",
         "hoverinfo": "skip",
         "legendgroup": "SNN",
         "line": {
          "width": 0
         },
         "mode": "lines",
         "name": "SNN ± SEM",
         "showlegend": true,
         "type": "scatter",
         "x": {
          "bdata": "pAYAC6QPkBTEGUAfBCUQKw==",
          "dtype": "i2"
         },
         "y": {
          "bdata": "ttXvqtz/QEA6U+0+qARIQDNlrbo0GktAerUBytabS0DV/YJ1kHtMQEELCnJR0E1AihNH68HfTUAX/WnJVhdOQA==",
          "dtype": "f8"
         }
        },
        {
         "customdata": {
          "bdata": "xyk6kst/8T8dWmQ730/tP0i/fR04ZwJAEOm3rwPn8T87AU2EDU/vPzSitDf4wvU//kP67evA7T9oImx4eqXmPw==",
          "dtype": "f8"
         },
         "hovertemplate": "<b>%{fullData.name}</b><br>#params: %{x}<br>Acc: %{y:.2f}%<br>SEM: %{customdata:.2f}%<extra></extra>",
         "legendgroup": "SNN",
         "line": {
          "color": "#636EFA"
         },
         "marker": {
          "color": "#636EFA"
         },
         "mode": "lines+markers",
         "name": "SNN mean",
         "type": "scatter",
         "x": {
          "bdata": "pAYAC6QPkBTEGUAfBCUQKw==",
          "dtype": "i2"
         },
         "y": {
          "bdata": "26fyld1zQEADIXKzaY9HQPOV3THC80lASzrqbZ8MS0DAPAvgUv5LQPVN8v46Ik1AR2Fj7bxoTUBwkvfXwbxNQA==",
          "dtype": "f8"
         }
        },
        {
         "hoverinfo": "skip",
         "legendgroup": "SNN_feedforward_delays",
         "line": {
          "width": 0
         },
         "mode": "lines",
         "showlegend": false,
         "type": "scatter",
         "x": {
          "bdata": "oAjIDYATyBmgIAgo",
          "dtype": "i2"
         },
         "y": {
          "bdata": "yOShzzOIO0B1QDmTYcxHQCS8yJwAu05AqqZmMzCfUUCGkaj3QBNSQN3Y0p3LT1NA",
          "dtype": "f8"
         }
        },
        {
         "fill": "tonexty",
         "fillcolor": "rgba(239,85,59,0.18)",
         "hoverinfo": "skip",
         "legendgroup": "SNN_feedforward_delays",
         "line": {
          "width": 0
         },
         "mode": "lines",
         "name": "SNN_feedforward_delays ± SEM",
         "showlegend": true,
         "type": "scatter",
         "x": {
          "bdata": "oAjIDYATyBmgIAgo",
          "dtype": "i2"
         },
         "y": {
          "bdata": "eFmXR4fxQ0Dxn7BDm0hKQLTXisUnPk9A4oS9jTrTUUDQHzfEUOZSQOUoII+0z1NA",
          "dtype": "f8"
         }
        },
        {
         "customdata": {
          "bdata": "9ihcj8K1GECL/WX35OEDQKK0N/jCZOA/L26jAbwF2j+L/WX35GH6P9GRXP5D+u8/",
          "dtype": "f8"
         },
         "hovertemplate": "<b>%{fullData.name}</b><br>#params: %{x}<br>Acc: %{y:.2f}%<br>SEM: %{customdata:.2f}%<extra></extra>",
         "legendgroup": "SNN_feedforward_delays",
         "line": {
          "color": "#EF553B"
         },
         "marker": {
          "color": "#EF553B"
         },
         "mode": "lines+markers",
         "name": "SNN_feedforward_delays mean",
         "type": "scatter",
         "x": {
          "bdata": "oAjIDYATyBmgIAgo",
          "dtype": "i2"
         },
         "y": {
          "bdata": "7iW0l9DaQEAz8HRrfgpJQOzJKTGU/E5AxhWSYDW5UUCr2O/dyHxSQOGAeRbAj1NA",
          "dtype": "f8"
         }
        },
        {
         "hoverinfo": "skip",
         "legendgroup": "SNN_fixed_recurrent_delays",
         "line": {
          "width": 0
         },
         "mode": "lines",
         "showlegend": false,
         "type": "scatter",
         "x": {
          "bdata": "oAjIDYATyBmgIAgo",
          "dtype": "i2"
         },
         "y": {
          "bdata": "3MSuCeO0QEAjQUaUwGdLQHyEeU198U9AwDA8ALTgUkCP82tMCa5SQLugoIQgrFNA",
          "dtype": "f8"
         }
        },
        {
         "fill": "tonexty",
         "fillcolor": "rgba(0,204,150,0.18)",
         "hoverinfo": "skip",
         "legendgroup": "SNN_fixed_recurrent_delays",
         "line": {
          "width": 0
         },
         "mode": "lines",
         "name": "SNN_fixed_recurrent_delays ± SEM",
         "showlegend": true,
         "type": "scatter",
         "x": {
          "bdata": "oAjIDYATyBmgIAgo",
          "dtype": "i2"
         },
         "y": {
          "bdata": "HHxwdaMgQ0Aj5QSmKe5NQFCK2c0VeVBAfgjphZ4mU0Dh+hXy9DBTQH0oW2dAMlRA",
          "dtype": "f8"
         }
        },
        {
         "customdata": {
          "bdata": "WRe30QBeA0AzMzMzMzMEQOwvuycPC/A/CmgibHh64T+vlGWIY13wPxb7y+7Jw/A/",
          "dtype": "f8"
         },
         "hovertemplate": "<b>%{fullData.name}</b><br>#params: %{x}<br>Acc: %{y:.2f}%<br>SEM: %{customdata:.2f}%<extra></extra>",
         "legendgroup": "SNN_fixed_recurrent_delays",
         "line": {
          "color": "#00CC96"
         },
         "marker": {
          "color": "#00CC96"
         },
         "mode": "lines+markers",
         "name": "SNN_fixed_recurrent_delays mean",
         "type": "scatter",
         "x": {
          "bdata": "oAjIDYATyBmgIAgo",
          "dtype": "i2"
         },
         "y": {
          "bdata": "fKCPP8PqQUAjkyUd9apMQEcmSzrqOFBAn5wSQ6kDU0A490Aff+9SQJzk/XUw71NA",
          "dtype": "f8"
         }
        },
        {
         "hoverinfo": "skip",
         "legendgroup": "SNN_recurrent_and_feedforward_delays",
         "line": {
          "width": 0
         },
         "mode": "lines",
         "showlegend": false,
         "type": "scatter",
         "x": {
          "bdata": "yAUaC0QRRhggINIo",
          "dtype": "i2"
         },
         "y": {
          "bdata": "BLYLTPQuLEDwOhF1LYhAQDd+ZDObxUlA7mvWyEgiUUASuye2CAxSQK/KBMsVHFJA",
          "dtype": "f8"
         }
        },
        {
         "fill": "tonexty",
         "fillcolor": "rgba(171,99,250,0.18)",
         "hoverinfo": "skip",
         "legendgroup": "SNN_recurrent_and_feedforward_delays",
         "line": {
          "width": 0
         },
         "mode": "lines",
         "name": "SNN_recurrent_and_feedforward_delays ± SEM",
         "showlegend": true,
         "type": "scatter",
         "x": {
          "bdata": "yAUaC0QRRhggINIo",
          "dtype": "i2"
         },
         "y": {
          "bdata": "mtuyHJiMM0D6JbvVdQdFQBnQJG65BUxA/DzhtOFwUUBqE6282K5SQAMVt8azyFJA",
          "dtype": "f8"
         }
        },
        {
         "customdata": {
          "bdata": "+MJkqmDUBUDpSC7/If0RQBsv3SQGAQJA2c73U+Ol4z8nMQisHFr0P2sr9pfdk/U/",
          "dtype": "f8"
         },
         "hovertemplate": "<b>%{fullData.name}</b><br>#params: %{x}<br>Acc: %{y:.2f}%<br>SEM: %{customdata:.2f}%<extra></extra>",
         "legendgroup": "SNN_recurrent_and_feedforward_delays",
         "line": {
          "color": "#AB63FA"
         },
         "marker": {
          "color": "#AB63FA"
         },
         "mode": "lines+markers",
         "name": "SNN_recurrent_and_feedforward_delays mean",
         "type": "scatter",
         "x": {
          "bdata": "yAUaC0QRRhggINIo",
          "dtype": "i2"
         },
         "y": {
          "bdata": "TltcIQnSMEB1MGal0cdCQCinxFCq5UpAddTbPpVJUUA+Z2q5cF1SQNnv3chkclJA",
          "dtype": "f8"
         }
        },
        {
         "hoverinfo": "skip",
         "legendgroup": "SNN_recurrent_delays",
         "line": {
          "width": 0
         },
         "mode": "lines",
         "showlegend": false,
         "type": "scatter",
         "x": {
          "bdata": "rAjaDZgT5hnEIDIo",
          "dtype": "i2"
         },
         "y": {
          "bdata": "eHyXHZQhRECjNeD/bvFOQJyy+cZz4VBAaEB/PORLUkDgvIiQ09lSQPMEq9pkAFRA",
          "dtype": "f8"
         }
        },
        {
         "fill": "tonexty",
         "fillcolor": "rgba(255,161,90,0.18)",
         "hoverinfo": "skip",
         "legendgroup": "SNN_recurrent_delays",
         "line": {
          "width": 0
         },
         "mode": "lines",
         "name": "SNN_recurrent_delays ± SEM",
         "showlegend": true,
         "type": "scatter",
         "x": {
          "bdata": "rAjaDZgT5hnEIDIo",
          "dtype": "i2"
         },
         "y": {
          "bdata": "AjHLoeONRUCbVpWkoBhQQEhYT+mmhFFAhuU0W+x0U0BeQYRCrMJTQOHWk7pKblRA",
          "dtype": "f8"
         }
        },
        {
         "customdata": {
          "bdata": "aQBvgQTF9j/pSC7/If3zP2ZmZmZmZvQ/48eYu5aQAkAldQKaCBv9PygPC7Wmees/",
          "dtype": "f8"
         },
         "hovertemplate": "<b>%{fullData.name}</b><br>#params: %{x}<br>Acc: %{y:.2f}%<br>SEM: %{customdata:.2f}%<extra></extra>",
         "legendgroup": "SNN_recurrent_delays",
         "line": {
          "color": "#FFA15A"
         },
         "marker": {
          "color": "#FFA15A"
         },
         "mode": "lines+markers",
         "name": "SNN_recurrent_delays mean",
         "type": "scatter",
         "x": {
          "bdata": "rAjaDZgT5hnEIDIo",
          "dtype": "i2"
         },
         "y": {
          "bdata": "vVax37vXREBtcYUkWJFPQHKFJFgNM1FA9xLaS2jgUkAff4bpP05TQOptn8pXN1RA",
          "dtype": "f8"
         }
        },
        {
         "hoverinfo": "skip",
         "legendgroup": "SNN_vanilla_recurrent",
         "line": {
          "width": 0
         },
         "mode": "lines",
         "showlegend": false,
         "type": "scatter",
         "x": {
          "bdata": "oAjIDYATyBmgIAgo",
          "dtype": "i2"
         },
         "y": {
          "bdata": "sBeb7oasG0CZv/aBnBYyQA1k5Ji++ThAAcZiU+kvP0AcB05C8ZQ/QEK8zLtPyUNA",
          "dtype": "f8"
         }
        },
        {
         "fill": "tonexty",
         "fillcolor": "rgba(25,211,243,0.18)",
         "hoverinfo": "skip",
         "legendgroup": "SNN_vanilla_recurrent",
         "line": {
          "width": 0
         },
         "mode": "lines",
         "name": "SNN_vanilla_recurrent ± SEM",
         "showlegend": true,
         "type": "scatter",
         "x": {
          "bdata": "oAjIDYATyBmgIAgo",
          "dtype": "i2"
         },
         "y": {
          "bdata": "Zq3XDg8XJECT4n/InnJAQOnmbss850FAiB0xyrFSREAwGHKLcHpEQDwSCLeRoUVA",
          "dtype": "f8"
         }
        },
        {
         "customdata": {
          "bdata": "iGNd3EYD+T+TqYJRSZ0dQLbz/dR4qRVAQs9m1efqEkDkFB3J5b8SQKOSOgFNhP0/",
          "dtype": "f8"
         },
         "hovertemplate": "<b>%{fullData.name}</b><br>#params: %{x}<br>Acc: %{y:.2f}%<br>SEM: %{customdata:.2f}%<extra></extra>",
         "legendgroup": "SNN_vanilla_recurrent",
         "line": {
          "color": "#19D3F3"
         },
         "marker": {
          "color": "#19D3F3"
         },
         "mode": "lines+markers",
         "name": "SNN_vanilla_recurrent mean",
         "type": "scatter",
         "x": {
          "bdata": "oAjIDYATyBmgIAgo",
          "dtype": "i2"
         },
         "y": {
          "bdata": "n5wSQ6n2IEBgQnsJ7X05QO8Y4RccZD5AREDxOVP1QUDfjUyWdCJCQD9narlwtURA",
          "dtype": "f8"
         }
        }
       ],
       "layout": {
        "template": {
         "data": {
          "bar": [
           {
            "error_x": {
             "color": "#2a3f5f"
            },
            "error_y": {
             "color": "#2a3f5f"
            },
            "marker": {
             "line": {
              "color": "#E5ECF6",
              "width": 0.5
             },
             "pattern": {
              "fillmode": "overlay",
              "size": 10,
              "solidity": 0.2
             }
            },
            "type": "bar"
           }
          ],
          "barpolar": [
           {
            "marker": {
             "line": {
              "color": "#E5ECF6",
              "width": 0.5
             },
             "pattern": {
              "fillmode": "overlay",
              "size": 10,
              "solidity": 0.2
             }
            },
            "type": "barpolar"
           }
          ],
          "carpet": [
           {
            "aaxis": {
             "endlinecolor": "#2a3f5f",
             "gridcolor": "white",
             "linecolor": "white",
             "minorgridcolor": "white",
             "startlinecolor": "#2a3f5f"
            },
            "baxis": {
             "endlinecolor": "#2a3f5f",
             "gridcolor": "white",
             "linecolor": "white",
             "minorgridcolor": "white",
             "startlinecolor": "#2a3f5f"
            },
            "type": "carpet"
           }
          ],
          "choropleth": [
           {
            "colorbar": {
             "outlinewidth": 0,
             "ticks": ""
            },
            "type": "choropleth"
           }
          ],
          "contour": [
           {
            "colorbar": {
             "outlinewidth": 0,
             "ticks": ""
            },
            "colorscale": [
             [
              0,
              "#0d0887"
             ],
             [
              0.1111111111111111,
              "#46039f"
             ],
             [
              0.2222222222222222,
              "#7201a8"
             ],
             [
              0.3333333333333333,
              "#9c179e"
             ],
             [
              0.4444444444444444,
              "#bd3786"
             ],
             [
              0.5555555555555556,
              "#d8576b"
             ],
             [
              0.6666666666666666,
              "#ed7953"
             ],
             [
              0.7777777777777778,
              "#fb9f3a"
             ],
             [
              0.8888888888888888,
              "#fdca26"
             ],
             [
              1,
              "#f0f921"
             ]
            ],
            "type": "contour"
           }
          ],
          "contourcarpet": [
           {
            "colorbar": {
             "outlinewidth": 0,
             "ticks": ""
            },
            "type": "contourcarpet"
           }
          ],
          "heatmap": [
           {
            "colorbar": {
             "outlinewidth": 0,
             "ticks": ""
            },
            "colorscale": [
             [
              0,
              "#0d0887"
             ],
             [
              0.1111111111111111,
              "#46039f"
             ],
             [
              0.2222222222222222,
              "#7201a8"
             ],
             [
              0.3333333333333333,
              "#9c179e"
             ],
             [
              0.4444444444444444,
              "#bd3786"
             ],
             [
              0.5555555555555556,
              "#d8576b"
             ],
             [
              0.6666666666666666,
              "#ed7953"
             ],
             [
              0.7777777777777778,
              "#fb9f3a"
             ],
             [
              0.8888888888888888,
              "#fdca26"
             ],
             [
              1,
              "#f0f921"
             ]
            ],
            "type": "heatmap"
           }
          ],
          "histogram": [
           {
            "marker": {
             "pattern": {
              "fillmode": "overlay",
              "size": 10,
              "solidity": 0.2
             }
            },
            "type": "histogram"
           }
          ],
          "histogram2d": [
           {
            "colorbar": {
             "outlinewidth": 0,
             "ticks": ""
            },
            "colorscale": [
             [
              0,
              "#0d0887"
             ],
             [
              0.1111111111111111,
              "#46039f"
             ],
             [
              0.2222222222222222,
              "#7201a8"
             ],
             [
              0.3333333333333333,
              "#9c179e"
             ],
             [
              0.4444444444444444,
              "#bd3786"
             ],
             [
              0.5555555555555556,
              "#d8576b"
             ],
             [
              0.6666666666666666,
              "#ed7953"
             ],
             [
              0.7777777777777778,
              "#fb9f3a"
             ],
             [
              0.8888888888888888,
              "#fdca26"
             ],
             [
              1,
              "#f0f921"
             ]
            ],
            "type": "histogram2d"
           }
          ],
          "histogram2dcontour": [
           {
            "colorbar": {
             "outlinewidth": 0,
             "ticks": ""
            },
            "colorscale": [
             [
              0,
              "#0d0887"
             ],
             [
              0.1111111111111111,
              "#46039f"
             ],
             [
              0.2222222222222222,
              "#7201a8"
             ],
             [
              0.3333333333333333,
              "#9c179e"
             ],
             [
              0.4444444444444444,
              "#bd3786"
             ],
             [
              0.5555555555555556,
              "#d8576b"
             ],
             [
              0.6666666666666666,
              "#ed7953"
             ],
             [
              0.7777777777777778,
              "#fb9f3a"
             ],
             [
              0.8888888888888888,
              "#fdca26"
             ],
             [
              1,
              "#f0f921"
             ]
            ],
            "type": "histogram2dcontour"
           }
          ],
          "mesh3d": [
           {
            "colorbar": {
             "outlinewidth": 0,
             "ticks": ""
            },
            "type": "mesh3d"
           }
          ],
          "parcoords": [
           {
            "line": {
             "colorbar": {
              "outlinewidth": 0,
              "ticks": ""
             }
            },
            "type": "parcoords"
           }
          ],
          "pie": [
           {
            "automargin": true,
            "type": "pie"
           }
          ],
          "scatter": [
           {
            "fillpattern": {
             "fillmode": "overlay",
             "size": 10,
             "solidity": 0.2
            },
            "type": "scatter"
           }
          ],
          "scatter3d": [
           {
            "line": {
             "colorbar": {
              "outlinewidth": 0,
              "ticks": ""
             }
            },
            "marker": {
             "colorbar": {
              "outlinewidth": 0,
              "ticks": ""
             }
            },
            "type": "scatter3d"
           }
          ],
          "scattercarpet": [
           {
            "marker": {
             "colorbar": {
              "outlinewidth": 0,
              "ticks": ""
             }
            },
            "type": "scattercarpet"
           }
          ],
          "scattergeo": [
           {
            "marker": {
             "colorbar": {
              "outlinewidth": 0,
              "ticks": ""
             }
            },
            "type": "scattergeo"
           }
          ],
          "scattergl": [
           {
            "marker": {
             "colorbar": {
              "outlinewidth": 0,
              "ticks": ""
             }
            },
            "type": "scattergl"
           }
          ],
          "scattermap": [
           {
            "marker": {
             "colorbar": {
              "outlinewidth": 0,
              "ticks": ""
             }
            },
            "type": "scattermap"
           }
          ],
          "scattermapbox": [
           {
            "marker": {
             "colorbar": {
              "outlinewidth": 0,
              "ticks": ""
             }
            },
            "type": "scattermapbox"
           }
          ],
          "scatterpolar": [
           {
            "marker": {
             "colorbar": {
              "outlinewidth": 0,
              "ticks": ""
             }
            },
            "type": "scatterpolar"
           }
          ],
          "scatterpolargl": [
           {
            "marker": {
             "colorbar": {
              "outlinewidth": 0,
              "ticks": ""
             }
            },
            "type": "scatterpolargl"
           }
          ],
          "scatterternary": [
           {
            "marker": {
             "colorbar": {
              "outlinewidth": 0,
              "ticks": ""
             }
            },
            "type": "scatterternary"
           }
          ],
          "surface": [
           {
            "colorbar": {
             "outlinewidth": 0,
             "ticks": ""
            },
            "colorscale": [
             [
              0,
              "#0d0887"
             ],
             [
              0.1111111111111111,
              "#46039f"
             ],
             [
              0.2222222222222222,
              "#7201a8"
             ],
             [
              0.3333333333333333,
              "#9c179e"
             ],
             [
              0.4444444444444444,
              "#bd3786"
             ],
             [
              0.5555555555555556,
              "#d8576b"
             ],
             [
              0.6666666666666666,
              "#ed7953"
             ],
             [
              0.7777777777777778,
              "#fb9f3a"
             ],
             [
              0.8888888888888888,
              "#fdca26"
             ],
             [
              1,
              "#f0f921"
             ]
            ],
            "type": "surface"
           }
          ],
          "table": [
           {
            "cells": {
             "fill": {
              "color": "#EBF0F8"
             },
             "line": {
              "color": "white"
             }
            },
            "header": {
             "fill": {
              "color": "#C8D4E3"
             },
             "line": {
              "color": "white"
             }
            },
            "type": "table"
           }
          ]
         },
         "layout": {
          "annotationdefaults": {
           "arrowcolor": "#2a3f5f",
           "arrowhead": 0,
           "arrowwidth": 1
          },
          "autotypenumbers": "strict",
          "coloraxis": {
           "colorbar": {
            "outlinewidth": 0,
            "ticks": ""
           }
          },
          "colorscale": {
           "diverging": [
            [
             0,
             "#8e0152"
            ],
            [
             0.1,
             "#c51b7d"
            ],
            [
             0.2,
             "#de77ae"
            ],
            [
             0.3,
             "#f1b6da"
            ],
            [
             0.4,
             "#fde0ef"
            ],
            [
             0.5,
             "#f7f7f7"
            ],
            [
             0.6,
             "#e6f5d0"
            ],
            [
             0.7,
             "#b8e186"
            ],
            [
             0.8,
             "#7fbc41"
            ],
            [
             0.9,
             "#4d9221"
            ],
            [
             1,
             "#276419"
            ]
           ],
           "sequential": [
            [
             0,
             "#0d0887"
            ],
            [
             0.1111111111111111,
             "#46039f"
            ],
            [
             0.2222222222222222,
             "#7201a8"
            ],
            [
             0.3333333333333333,
             "#9c179e"
            ],
            [
             0.4444444444444444,
             "#bd3786"
            ],
            [
             0.5555555555555556,
             "#d8576b"
            ],
            [
             0.6666666666666666,
             "#ed7953"
            ],
            [
             0.7777777777777778,
             "#fb9f3a"
            ],
            [
             0.8888888888888888,
             "#fdca26"
            ],
            [
             1,
             "#f0f921"
            ]
           ],
           "sequentialminus": [
            [
             0,
             "#0d0887"
            ],
            [
             0.1111111111111111,
             "#46039f"
            ],
            [
             0.2222222222222222,
             "#7201a8"
            ],
            [
             0.3333333333333333,
             "#9c179e"
            ],
            [
             0.4444444444444444,
             "#bd3786"
            ],
            [
             0.5555555555555556,
             "#d8576b"
            ],
            [
             0.6666666666666666,
             "#ed7953"
            ],
            [
             0.7777777777777778,
             "#fb9f3a"
            ],
            [
             0.8888888888888888,
             "#fdca26"
            ],
            [
             1,
             "#f0f921"
            ]
           ]
          },
          "colorway": [
           "#636efa",
           "#EF553B",
           "#00cc96",
           "#ab63fa",
           "#FFA15A",
           "#19d3f3",
           "#FF6692",
           "#B6E880",
           "#FF97FF",
           "#FECB52"
          ],
          "font": {
           "color": "#2a3f5f"
          },
          "geo": {
           "bgcolor": "white",
           "lakecolor": "white",
           "landcolor": "#E5ECF6",
           "showlakes": true,
           "showland": true,
           "subunitcolor": "white"
          },
          "hoverlabel": {
           "align": "left"
          },
          "hovermode": "closest",
          "mapbox": {
           "style": "light"
          },
          "paper_bgcolor": "white",
          "plot_bgcolor": "#E5ECF6",
          "polar": {
           "angularaxis": {
            "gridcolor": "white",
            "linecolor": "white",
            "ticks": ""
           },
           "bgcolor": "#E5ECF6",
           "radialaxis": {
            "gridcolor": "white",
            "linecolor": "white",
            "ticks": ""
           }
          },
          "scene": {
           "xaxis": {
            "backgroundcolor": "#E5ECF6",
            "gridcolor": "white",
            "gridwidth": 2,
            "linecolor": "white",
            "showbackground": true,
            "ticks": "",
            "zerolinecolor": "white"
           },
           "yaxis": {
            "backgroundcolor": "#E5ECF6",
            "gridcolor": "white",
            "gridwidth": 2,
            "linecolor": "white",
            "showbackground": true,
            "ticks": "",
            "zerolinecolor": "white"
           },
           "zaxis": {
            "backgroundcolor": "#E5ECF6",
            "gridcolor": "white",
            "gridwidth": 2,
            "linecolor": "white",
            "showbackground": true,
            "ticks": "",
            "zerolinecolor": "white"
           }
          },
          "shapedefaults": {
           "line": {
            "color": "#2a3f5f"
           }
          },
          "ternary": {
           "aaxis": {
            "gridcolor": "white",
            "linecolor": "white",
            "ticks": ""
           },
           "baxis": {
            "gridcolor": "white",
            "linecolor": "white",
            "ticks": ""
           },
           "bgcolor": "#E5ECF6",
           "caxis": {
            "gridcolor": "white",
            "linecolor": "white",
            "ticks": ""
           }
          },
          "title": {
           "x": 0.05
          },
          "xaxis": {
           "automargin": true,
           "gridcolor": "white",
           "linecolor": "white",
           "ticks": "",
           "title": {
            "standoff": 15
           },
           "zerolinecolor": "white",
           "zerolinewidth": 2
          },
          "yaxis": {
           "automargin": true,
           "gridcolor": "white",
           "linecolor": "white",
           "ticks": "",
           "title": {
            "standoff": 15
           },
           "zerolinecolor": "white",
           "zerolinewidth": 2
          }
         }
        }
       }
      }
     },
     "metadata": {},
     "output_type": "display_data"
    }
   ],
   "source": [
    "csv_path = None # e.g \"../exp/..\" : the path to the CSV file with SHD_equiparams results\n",
    "figure_path = \"../figures/\"\n",
    "use_log_x = False\n",
    "acc_in_pct = True\n",
    "\n",
    "def hex_to_rgba(hex_color, alpha=0.18):  \n",
    "    h = hex_color.lstrip(\"#\")\n",
    "    r, g, b = int(h[0:2], 16), int(h[2:4], 16), int(h[4:6], 16)\n",
    "    return f\"rgba({r},{g},{b},{alpha})\"\n",
    "\n",
    "\n",
    "df = pd.read_csv(csv_path)\n",
    "\n",
    "df = df.dropna(subset=[\"model\", \"num_params\", \"final_test_acc\", \"seed\"])\n",
    "df[\"num_params\"] = pd.to_numeric(df[\"num_params\"], errors=\"coerce\")\n",
    "df = df.dropna(subset=[\"num_params\"])\n",
    "df[\"num_params\"] = df[\"num_params\"].astype(int)\n",
    "\n",
    "df = df.sort_index().drop_duplicates(subset=[\"model\", \"num_params\", \"seed\"], keep=\"last\")\n",
    "\n",
    "grp = (\n",
    "    df.groupby([\"model\", \"num_params\"])\n",
    "      .agg(\n",
    "          mean_acc=(\"final_test_acc\", \"mean\"),\n",
    "          std_acc=(\"final_test_acc\", \"std\"),\n",
    "          n=(\"seed\", \"nunique\"),\n",
    "      )\n",
    "      .reset_index()\n",
    ")\n",
    "\n",
    "grp[\"sem_acc\"] = grp.apply(\n",
    "    lambda r: 0.0 if (pd.isna(r[\"std_acc\"]) or r[\"n\"] <= 1) else r[\"std_acc\"] / math.sqrt(r[\"n\"]),\n",
    "    axis=1\n",
    ")\n",
    "\n",
    "\n",
    "if acc_in_pct:\n",
    "    grp[\"std_acc_plot\"] = grp[\"std_acc\"]\n",
    "else:\n",
    "    grp[\"std_acc_plot\"] = 100.0 * grp[\"std_acc\"]\n",
    "\n",
    "acc_in_pct = grp[\"mean_acc\"].max() > 1.001\n",
    "if acc_in_pct:\n",
    "    grp[\"mean_acc_plot\"] = grp[\"mean_acc\"]\n",
    "    grp[\"sem_acc_plot\"]  = grp[\"sem_acc\"]\n",
    "    yaxis_title = \"Test accuracy (%)\"\n",
    "else:\n",
    "    grp[\"mean_acc_plot\"] = 100.0 * grp[\"mean_acc\"]\n",
    "    grp[\"sem_acc_plot\"]  = 100.0 * grp[\"sem_acc\"]\n",
    "    yaxis_title = \"Test accuracy (%)\"\n",
    "\n",
    "grp = grp.sort_values([\"model\", \"num_params\"]).reset_index(drop=True)\n",
    "\n",
    "fig = go.Figure()\n",
    "palette = px.colors.qualitative.Plotly\n",
    "models = grp[\"model\"].unique()\n",
    "\n",
    "for i, model in enumerate(models):\n",
    "    g = grp[grp[\"model\"] == model].sort_values(\"num_params\")\n",
    "    color = palette[i % len(palette)]\n",
    "    fillcol = hex_to_rgba(color, 0.18)\n",
    "\n",
    "    x = g[\"num_params\"].to_numpy()\n",
    "    y = g[\"mean_acc_plot\"].to_numpy()\n",
    "    sem = g[\"sem_acc_plot\"].to_numpy()\n",
    "\n",
    "    y_lower = np.clip(y - sem, 0.0, 100.0)\n",
    "    y_upper = np.clip(y + sem, 0.0, 100.0)\n",
    "\n",
    "    fig.add_trace(go.Scatter(\n",
    "        x=x, y=y_lower, mode=\"lines\",\n",
    "        line=dict(width=0), hoverinfo=\"skip\",\n",
    "        showlegend=False, legendgroup=model\n",
    "    ))\n",
    "\n",
    "    fig.add_trace(go.Scatter(\n",
    "        x=x, y=y_upper, mode=\"lines\",\n",
    "        line=dict(width=0), fill=\"tonexty\", fillcolor=fillcol,\n",
    "        hoverinfo=\"skip\", showlegend=True, legendgroup=model,\n",
    "        name=f\"{model} ± SEM\"\n",
    "    ))\n",
    "\n",
    "    fig.add_trace(go.Scatter(\n",
    "        x=x, y=y, mode=\"lines+markers\",\n",
    "        name=f\"{model} mean\", legendgroup=model,\n",
    "        line=dict(color=color), marker=dict(color=color),\n",
    "        hovertemplate=(\n",
    "            \"<b>%{fullData.name}</b><br>\" +\n",
    "            \"#params: %{x}<br>\" +\n",
    "            \"Acc: %{y:.2f}%<br>\" +\n",
    "            \"SEM: %{customdata:.2f}%<extra></extra>\"\n",
    "        ),\n",
    "        customdata=np.round(sem, 4),\n",
    "    ))\n",
    "\n",
    "\n",
    "if use_log_x:\n",
    "    fig.update_xaxes(type=\"log\")\n",
    "    \n",
    "os.makedirs(figure_path, exist_ok=True)\n",
    "\n",
    "svg_path = os.path.join(os.path.dirname(figure_path), \"accuracy_vs_params.svg\")\n",
    "fig.write_image(svg_path, format=\"svg\", width=800, height=600, scale=1)\n",
    "print(f\"Saved SVG to: {svg_path}\")\n",
    "fig.show()"
   ]
  },
  {
   "cell_type": "markdown",
   "metadata": {},
   "source": [
    "# Spike penalization"
   ]
  },
  {
   "cell_type": "code",
   "execution_count": null,
   "metadata": {},
   "outputs": [
    {
     "name": "stdout",
     "output_type": "stream",
     "text": [
      "Saved SVG to: ../figures/accuracy_vs_spikes.svg\n"
     ]
    },
    {
     "data": {
      "application/vnd.plotly.v1+json": {
       "config": {
        "plotlyServerURL": "https://plot.ly"
       },
       "data": [
        {
         "fill": "toself",
         "fillcolor": "rgba(99,110,250,0.2)",
         "hoverinfo": "skip",
         "legendgroup": "SNN",
         "line": {
          "width": 0
         },
         "showlegend": false,
         "type": "scatter",
         "x": {
          "bdata": "OBu4uuCumz8T1W6pR3WeP05SH6ViRqA/Nb8ukbCCoT//jfw2oSSiPxfZf2baBaM/f4FF7Zj0pD9SlwGNDiulP1UvO32UG6c/ZR4iFW9Upz//SZ9j/BSpPzC+PLP+7qk/JcdF0iDJqz9J7J+NAACuP/tdG1DePK8/N2OUUc9VsD/D5MJtVjixP1km65K/j7E/Xr251NmAsj/ZFmq2sFGzP7Bj+V2UILQ/n8yzxdhTtD/o9NfxI4S0P2QKvjarhrQ/nFBYoO2OtD8QUQrEE6e0P1R6HyJSrbQ/VHofIlKttD8QUQrEE6e0P5xQWKDtjrQ/ZAq+NquGtD/o9NfxI4S0P5/Ms8XYU7Q/sGP5XZQgtD/ZFmq2sFGzP169udTZgLI/WSbrkr+PsT/D5MJtVjixPzdjlFHPVbA/+10bUN48rz9J7J+NAACuPyXHRdIgyas/ML48s/7uqT//SZ9j/BSpP2UeIhVvVKc/VS87fZQbpz9SlwGNDiulP3+BRe2Y9KQ/F9l/ZtoFoz//jfw2oSSiPzW/LpGwgqE/TlIfpWJGoD8T1W6pR3WePzgbuLrgrps/",
          "dtype": "f8"
         },
         "y": {
          "bdata": "6GB+OewVR0D//zHhWT5IQNC1ae/QDUlAS3si6yOQSkBc+yHhAzdLQHxUQK/cUktAXpXvw8OBSkCINMjJy2hMQI/4K2pIekxAjFlLb8J1TEDuPSi6mAhMQAFlp/O0Y0tAt36ZKr19S0D1bZTFYcRMQLv4MHpZJkxAbs3SSog0TEDR4HZeXGBNQBejVDh5HE1ASYkM7/jNTECeUE/yuL1MQFHnmKF0Ck5AX07b3CsnTUAPLUPH08lNQLRGDEngIU5AShUY58joTUDaVVUwo5hNQExLxCvFc01ALMv7eaN2TkCwp4ldqQFOQDbnAb82IE5AZGzGnzFXTkAJwafUELBOQGty+NDNxk5AP2X90l9VTkDKR6+xvC9OQG8iY6P+nU1AAwOrMOTVTkBpzt6Nm/JNQIy1MJvRv01A/9OwywedTUArBB+kKaNOQFl1WD3bXE1AMbkSq+eSTECE0cs3z69NQHromPcQ/U1APzjR3aI4TUBQX4uYXERNQFAI6GYyFk1AfqTznCJLTEA8ebL6Og5MQF2yi6XgWktAGk/Y9JVxSkDrbW3p/fNJQN7vK9obA0lA",
          "dtype": "f8"
         }
        },
        {
         "customdata": {
          "bdata": "AAAAAAAAJEAAAAAAAAAIQMcOaEp691s/AAAAAAAAI0AAAAAAAAAIQJQQsVpyzVA/AAAAAAAAIkAAAAAAAAAIQJERmXyqdFE/AAAAAAAAIUAAAAAAAAAIQEV8h1AK4FA/AAAAAAAAIEAAAAAAAAAIQAw5Drvu2Fc/AAAAAAAAHkAAAAAAAAAIQArsz9X5818/AAAAAAAAHEAAAAAAAAAIQIE3lNkRomA/AAAAAAAAGkAAAAAAAAAIQEssZQR5ZkA/AAAAAAAAGEAAAAAAAAAIQLLdH2ATLV8/AAAAAAAAFkAAAAAAAAAIQGefX6/USWA/AAAAAAAAFEAAAAAAAAAIQJ7fPSsOWHA/AAAAAAAAEkAAAAAAAAAIQL8S8MCDGHA/AAAAAAAAEEAAAAAAAAAIQG6SZYbIWWg/AAAAAAAADEAAAAAAAAAIQG2mACb0Xl8/AAAAAAAACEAAAAAAAAAIQNovA/ytQ2Y/AAAAAAAABEAAAAAAAAAIQPrB5Yqwgk4/AAAAAAAAAEAAAAAAAAAIQGQL6oH1q1c/AAAAAAAA+D8AAAAAAAAIQNmv1YhY+ls/AAAAAAAA8D8AAAAAAAAIQCu66Oa9QFM/AAAAAAAA4D8AAAAAAAAIQLLp9Zxn6Fs//Knx0k1iUD8AAAAAAAAIQDGgzM35nU4/exSuR+F6dD8AAAAAAAAIQNnK/TXd7GE/mpmZmZmZqT8AAAAAAAAIQN3zrsNYImA/LUMc6+I2Gj8AAAAAAAAIQEe0gg1BJWI/mpmZmZmZuT8AAAAAAAAIQG/nGw/D4Uc//Knx0k1iQD8AAAAAAAAIQO4AkUz3BFI/exSuR+F6hD8AAAAAAAAIQMSQT1X/C1w/",
          "dtype": "f8",
          "shape": "27, 3"
         },
         "hovertemplate": "<b>%{fullData.name}</b><br>λ: %{customdata[0]}<br>Mean spikes: %{x:.6f} ± %{customdata[2]:.6f}<br>Accuracy: %{y:.2f}% (mean ± SEM shown)<br>Seeds: %{customdata[1]}<extra></extra>",
         "legendgroup": "SNN",
         "line": {
          "color": "#636EFA",
          "width": 2
         },
         "marker": {
          "color": "#636EFA",
          "size": 6
         },
         "mode": "lines+markers",
         "name": "SNN",
         "type": "scatter",
         "x": {
          "bdata": "OBu4uuCumz8T1W6pR3WeP05SH6ViRqA/Nb8ukbCCoT//jfw2oSSiPxfZf2baBaM/f4FF7Zj0pD9SlwGNDiulP1UvO32UG6c/ZR4iFW9Upz//SZ9j/BSpPzC+PLP+7qk/JcdF0iDJqz9J7J+NAACuP/tdG1DePK8/N2OUUc9VsD/D5MJtVjixP1km65K/j7E/Xr251NmAsj/ZFmq2sFGzP7Bj+V2UILQ/n8yzxdhTtD/o9NfxI4S0P2QKvjarhrQ/nFBYoO2OtD8QUQrEE6e0P1R6HyJSrbQ/",
          "dtype": "f8"
         },
         "y": {
          "bdata": "YyjVCYQMSED1tk/lKxlJQHUCIXKzv0lA1BZXSIL1SkBMOuptn6JLQH38Gab/zktA185rFfvLS0DsySkxlNZMQGeY/qN12UxAAyFys2k5TUC5B/r4M9xMQBkPXU9O+0tACPr4M0xtTEAQudm0xbNNQF3m8KKw4UxAfcEB8yz6TECd1yr2e6lNQA3Tf7Qu+U1A3NU3yfs1TUA0TP/RunZNQEgmSzrqL05AZeDp1vz2TUAMd/VN8jxOQIxZafSIPE5AQP4M038ETkDFfu9GJs1NQDwL4FI09U1A",
          "dtype": "f8"
         }
        },
        {
         "fill": "toself",
         "fillcolor": "rgba(239,85,59,0.2)",
         "hoverinfo": "skip",
         "legendgroup": "SNN_feedforward_delays",
         "line": {
          "width": 0
         },
         "showlegend": false,
         "type": "scatter",
         "x": {
          "bdata": "uDEGSaHxoD9mr4ltGvmhP/sRPY2EQ6I/oY2qUYnvoj8l4kdInviiP5Bfp2TrJaQ/sNKxG3QwpT8heaoXjxKmP0nYrNc3TKY/QCCRYLHopj9jHpwtpjqoPwdDWtuuQKg/KzAseFL1qT8rBPmiu4aqPws8m6aRPqs/IJA+h6OarD9VoVXJpSqtPw9HLHwraa0/cIl2ZE0Mrz+2hHXS3gewPx2GBdQ+GbA/b+B2waNWsD/D2CEw53+wP8OmkXEdkrA/Z2g3pZeksD8JaD4S2qiwP6V2+I/O5rA/pXb4j87msD8JaD4S2qiwP2doN6WXpLA/w6aRcR2SsD/D2CEw53+wP2/gdsGjVrA/HYYF1D4ZsD+2hHXS3gewP3CJdmRNDK8/D0csfCtprT9VoVXJpSqtPyCQPoejmqw/CzybppE+qz8rBPmiu4aqPyswLHhS9ak/B0Na265AqD9jHpwtpjqoP0AgkWCx6KY/Sdis1zdMpj8heaoXjxKmP7DSsRt0MKU/kF+nZOslpD8l4kdInviiP6GNqlGJ76I/+xE9jYRDoj9mr4ltGvmhP7gxBkmh8aA/",
          "dtype": "f8"
         },
         "y": {
          "bdata": "NVXqJWA/UEAxboCR3ixRQDB4Pv1yt1BATwp2PWRaUEAExUppgv9QQLzc5HxgfVFArGi6GOCbUUDlN+sCNv5RQKseWDffzlFAi1KxUXDTUUBwRYwKVdtRQH8eT8phsVFAvLPUHJtDUkCP9wN7DXZSQKfAHrVgblJAESNER8G9UUADwFG9XblSQKSomZ/fd1JAYyvKHFCOUkB/RrV/FcFSQPDv8hgpElNAuPUEA4tnU0CGdqBj9q1SQMHN9s37b1NAX8DFILvoUkBtirM1rAtTQLhdUdnfaVNAAtjtUnLcU0B1UlBHUGRTQNd+ZjFLmVNAyV0t826GU0BC+3tje2JTQO4JZFpbzVNAIrwTHOh6U0ARkLCOGYtTQM0MloG1UVNA1mBThtQ9U0AjxgDg4vxSQNOs7LWGzVJAMQF64OX+UkCpLYLXj8xSQNZxSNgbqFJAhYzygmLAUkDaXbtJO6JSQK1IBWfSdlJAt63ya2jVUUD5kHlGER1SQOoY7UITElJAzuXhXRlIUkAytfmbVs1RQI9iZKWmelFAfhjGrc4PUUCtlfxqO/VRQAGOt8VppFFA",
          "dtype": "f8"
         }
        },
        {
         "customdata": {
          "bdata": "AAAAAAAAJEAAAAAAAAAIQPXcCpoVll8/AAAAAAAAIkAAAAAAAAAIQA5r9mYRmU4/AAAAAAAAI0AAAAAAAAAIQHvhuvsb2UA/AAAAAAAAIUAAAAAAAAAIQEJtgmd6OmE/AAAAAAAAIEAAAAAAAAAIQESx7yOr118/AAAAAAAAHkAAAAAAAAAIQDr4KDB3eF8/AAAAAAAAHEAAAAAAAAAIQEqM4vfoxVE/AAAAAAAAGkAAAAAAAAAIQAKoi0J/xEQ/AAAAAAAAGEAAAAAAAAAIQBD3S6VdV1g/AAAAAAAAFkAAAAAAAAAIQEMdT/WbWlw/AAAAAAAAEkAAAAAAAAAIQMH16m70TlQ/AAAAAAAAFEAAAAAAAAAIQBFRPsDx/ks/AAAAAAAAEEAAAAAAAAAIQIhuCxL85jU/AAAAAAAADEAAAAAAAAAIQPv8KhpnklM/AAAAAAAACEAAAAAAAAAIQE5SiiFpu2A/AAAAAAAABEAAAAAAAAAIQPXLN33ru2Y/AAAAAAAAAEAAAAAAAAAIQILlGXzul2I/AAAAAAAA+D8AAAAAAAAIQDAoxdNC3Ws/AAAAAAAA8D8AAAAAAAAIQAZp7WlKxmU/mpmZmZmZuT8AAAAAAAAIQLbZTatFgGc/AAAAAAAA4D8AAAAAAAAIQBnE6yro0XA/mpmZmZmZqT8AAAAAAAAIQK9Ny/wM41w/exSuR+F6hD8AAAAAAAAIQAJTQ0WFNWg//Knx0k1iUD8AAAAAAAAIQE+XyhbAXWM/LUMc6+I2Gj8AAAAAAAAIQE90N8esxnA/exSuR+F6dD8AAAAAAAAIQMw0AuiEH2M//Knx0k1iQD8AAAAAAAAIQHzLKdU3HFw/",
          "dtype": "f8",
          "shape": "27, 3"
         },
         "hovertemplate": "<b>%{fullData.name}</b><br>λ: %{customdata[0]}<br>Mean spikes: %{x:.6f} ± %{customdata[2]:.6f}<br>Accuracy: %{y:.2f}% (mean ± SEM shown)<br>Seeds: %{customdata[1]}<extra></extra>",
         "legendgroup": "SNN_feedforward_delays",
         "line": {
          "color": "#EF553B",
          "width": 2
         },
         "marker": {
          "color": "#EF553B",
          "size": 6
         },
         "mode": "lines+markers",
         "name": "SNN_feedforward_delays",
         "type": "scatter",
         "x": {
          "bdata": "uDEGSaHxoD9mr4ltGvmhP/sRPY2EQ6I/oY2qUYnvoj8l4kdInviiP5Bfp2TrJaQ/sNKxG3QwpT8heaoXjxKmP0nYrNc3TKY/QCCRYLHopj9jHpwtpjqoPwdDWtuuQKg/KzAseFL1qT8rBPmiu4aqPws8m6aRPqs/IJA+h6OarD9VoVXJpSqtPw9HLHwraa0/cIl2ZE0Mrz+2hHXS3gewPx2GBdQ+GbA/b+B2waNWsD/D2CEw53+wP8OmkXEdkrA/Z2g3pZeksD8JaD4S2qiwP6V2+I/O5rA/",
          "dtype": "f8"
         },
         "y": {
          "bdata": "m/HQ9eTxUEDvgT7+DJFRQFdIgtWg41BAbzZtcYXqUEAbPaKCbGZRQEVhY+284lFAy8DTrfnWUUBvZLKkow1SQDFmpdEj0lFAnE1bXCElUkCl0SMqyD5SQILVoCbiOFJAyZKOett1UkCcEkOpTqFSQOxgzEqjtlJA8meY/qNFUkATQ6lOINtSQL2E9hLa2lJAGBwwzwLwUkBI6zKHFyZTQAlWg5qIRlNA03+0LnOaU0DkOI7jOAhTQMUVkmA1e1NAmx8WKQNBU0Bx7oE+/jdTQN2aHxYpo1NA",
          "dtype": "f8"
         }
        },
        {
         "fill": "toself",
         "fillcolor": "rgba(0,204,150,0.2)",
         "hoverinfo": "skip",
         "legendgroup": "SNN_recurrent_and_feedforward_delays",
         "line": {
          "width": 0
         },
         "showlegend": false,
         "type": "scatter",
         "x": {
          "bdata": "4SmZwogmpj9In/JTqieoP4hpguOAcqg/c7vab0zNqD8MwtK0jRKpP8QNFgKNQKk/wAEA/4SFqT9r+nIjdZWpPzxqdbSLMqo/JKOlLETUrD+0LtrJ7GSuPw0HrwAQta8/pXVLm3/DsD+La0TywhqxP3m/PEI3TbE/LMoD72W0sj8X0511ZlizPz8srQCvp7M/GK5/5DO/sz85SrhDcji1P7EENpiHS7U/oFyyNsSltT/sTpaDnNW1PzyuFGu/9bU/T84dPzT5tT/4xtaCGP21PwQlQD5UGLY/BCVAPlQYtj/4xtaCGP21P0/OHT80+bU/PK4Ua7/1tT/sTpaDnNW1P6BcsjbEpbU/sQQ2mIdLtT85SrhDcji1Pxiuf+Qzv7M/PyytAK+nsz8X0511ZlizPyzKA+9ltLI/eb88QjdNsT+La0TywhqxP6V1S5t/w7A/DQevABC1rz+0LtrJ7GSuPySjpSxE1Kw/PGp1tIsyqj9r+nIjdZWpP8ABAP+Ehak/xA0WAo1AqT8MwtK0jRKpP3O72m9Mzag/iGmC44ByqD9In/JTqieoP+EpmcKIJqY/",
          "dtype": "f8"
         },
         "y": {
          "bdata": "xBmeejPWTkBX9TUlrW5QQDTgTQXV31BAwTqQaE93UEC7fgDxo2ZQQNH6ziDAu1BApjOrZCQjUEDbLx32mw1RQG09F6tjM1FAJMFLPnCnUUAcopvsKWRSQAJ8XcRct1FAbL782tQVUkD0hsGu07lRQGD0O87XzVFAkrn32Lh9UkCvPbA5/49SQFPwD9gLCVJA6NimEgYcUkAyeqi+w/tRQD7D7aiHp1JAJD0Zc/crUkAvtFlvq3hSQPpLNw3XhFJAt/6CtQtqUkCfpb7Wo0tSQEYUROuTXlJAfEk5qCi7UkDLE7KAOxNTQIEz1hxGX1NAnO2EG5UrU0DzvVn636pSQICh3TaF9VJA6GbajXxSU0D8bgD5uexSQCo8vQj8v1JAp5/GjQKSUkBpGZhI1u5SQEjNiAm77lJAKFGO8vuxUkBUzc6+NGJSQOZ15sYWQFJANCwsdJpRUkCAQmKJBqJSQEbK3+VQSVJAWW8dz+C9UUB9dO9FQQdSQMThT1n3D1FAf+pcmqPaUUCxaLWZWYRRQOlvGkJbY1FA9lBG5S/UUUB/q/C8L79RQMyDte0nYlFA",
          "dtype": "f8"
         }
        },
        {
         "customdata": {
          "bdata": "AAAAAAAAJEAAAAAAAAAIQENuDfiV+Fk/AAAAAAAAIUAAAAAAAAAIQPMN7vFAiVU/AAAAAAAAI0AAAAAAAAAIQCWJEUlx5WY/AAAAAAAAIkAAAAAAAAAIQL5/7LKR2Gs/AAAAAAAAIEAAAAAAAAAIQIACx/SDImo/AAAAAAAAGkAAAAAAAAAIQBw4VPSLh2w/AAAAAAAAHkAAAAAAAAAIQOcemU767nA/AAAAAAAAHEAAAAAAAAAIQO4BPvpj3nY/AAAAAAAAGEAAAAAAAAAIQLpeaelHeGc/AAAAAAAAFkAAAAAAAAAIQBJhR1ikbWw/AAAAAAAAFEAAAAAAAAAIQC/MFbpp8Gg/AAAAAAAAEkAAAAAAAAAIQIaNF55MN2Q/AAAAAAAAEEAAAAAAAAAIQJNR54HIrHI/AAAAAAAADEAAAAAAAAAIQFeqA7YYLXA/AAAAAAAACEAAAAAAAAAIQOSJOO3PwnU/AAAAAAAABEAAAAAAAAAIQB/hFdiDG3I/AAAAAAAAAEAAAAAAAAAIQHqo3Z/Ex3I/AAAAAAAA+D8AAAAAAAAIQH5WIUMY9ms/AAAAAAAA8D8AAAAAAAAIQPTbEuTPeW4/AAAAAAAA4D8AAAAAAAAIQKFVZ5lkCmc/mpmZmZmZuT8AAAAAAAAIQNgeofU4DmU/LUMc6+I2Gj8AAAAAAAAIQCDwHUl43XA/mpmZmZmZqT8AAAAAAAAIQC+Jp0/X82M//Knx0k1iQD8AAAAAAAAIQMg1iYo9Cmo//Knx0k1iUD8AAAAAAAAIQM/R6bUrJXA/exSuR+F6dD8AAAAAAAAIQBV6TdTTj2s/exSuR+F6hD8AAAAAAAAIQAw0ry3fd3E/",
          "dtype": "f8",
          "shape": "27, 3"
         },
         "hovertemplate": "<b>%{fullData.name}</b><br>λ: %{customdata[0]}<br>Mean spikes: %{x:.6f} ± %{customdata[2]:.6f}<br>Accuracy: %{y:.2f}% (mean ± SEM shown)<br>Seeds: %{customdata[1]}<extra></extra>",
         "legendgroup": "SNN_recurrent_and_feedforward_delays",
         "line": {
          "color": "#00CC96",
          "width": 2
         },
         "marker": {
          "color": "#00CC96",
          "size": 6
         },
         "mode": "lines+markers",
         "name": "SNN_recurrent_and_feedforward_delays",
         "type": "scatter",
         "x": {
          "bdata": "4SmZwogmpj9In/JTqieoP4hpguOAcqg/c7vab0zNqD8MwtK0jRKpP8QNFgKNQKk/wAEA/4SFqT9r+nIjdZWpPzxqdbSLMqo/JKOlLETUrD+0LtrJ7GSuPw0HrwAQta8/pXVLm3/DsD+La0TywhqxP3m/PEI3TbE/LMoD72W0sj8X0511ZlizPz8srQCvp7M/GK5/5DO/sz85SrhDcji1P7EENpiHS7U/oFyyNsSltT/sTpaDnNW1PzyuFGu/9bU/T84dPzT5tT/4xtaCGP21PwQlQD5UGLY/",
          "dtype": "f8"
         },
         "y": {
          "bdata": "V0iC1aBmUEBrUBNx7hZRQJUYSnUCWlFAVVVVVVXtUEC281rFfvVQQKjyld0xS1FAtYr93o2ZUEAsUgaebopRQGNWGj2ieFFAtcUVkmD4UUBO8v46GINSQBvURJx7BFJAKZrx0PUqUkAkKsg2BA5SQMQiZeDpP1JAbUNA8Tm2UkCMKyTBar9SQP1H6zKHTVJAiQqyDQFuUkCXdNTbPnRSQBMVZBsC/VJAUm/7VL6QUkARudm0xZFSQMscXhQ22FJAHJks6ajkUkC1XLirb69SQOGuvknejFJA",
          "dtype": "f8"
         }
        },
        {
         "fill": "toself",
         "fillcolor": "rgba(171,99,250,0.2)",
         "hoverinfo": "skip",
         "legendgroup": "SNN_recurrent_delays",
         "line": {
          "width": 0
         },
         "showlegend": false,
         "type": "scatter",
         "x": {
          "bdata": "xMPIl2Z0rT+hiMQDXH2uPwl4zAazV68/vQMQifQ6sD+S0TN6RdqwP2f9sWRFbrE/1fC8KeTzsT+z8o+2afixP3Mj6kBNSrM/tf0HOvuIsz857FuE41i0P2ftbbrGz7Q/C5tfanD7tD99XatUMDu2P31dq1QwO7Y/C5tfanD7tD9n7W26xs+0PznsW4TjWLQ/tf0HOvuIsz9zI+pATUqzP7Pyj7Zp+LE/1fC8KeTzsT9n/bFkRW6xP5LRM3pF2rA/vQMQifQ6sD8JeMwGs1evP6GIxANcfa4/xMPIl2Z0rT8=",
          "dtype": "f8"
         },
         "y": {
          "bdata": "m6N6AZYzUUCVacPAJq9RQPXiBJ92ak9AuU5n4MEqUkDcKR0ZmcdSQEY71yIKVVFAifgU5SwFU0Bx4mFcQw5TQOYwKlgO6lJA5N9T+DdkU0DIzHJv9xtTQH6G5IpylVNAFtg5yPpGVEAb7MKDP45TQENWuIWtMVRAZF/4kNeeVEBGBd47aFBUQBrVeFoyG1RAXEz+DWZCVEDq/9Lv3HJTQLGww8CxxFNAcVypzQ7tU0DY5yRg+UBSQLRxMELDH1NAIcLomwzcUkAgRTbz1lJSQFuvHVf1LFJAH8AJXto6UkA=",
          "dtype": "f8"
         }
        },
        {
         "customdata": {
          "bdata": "AAAAAAAAIkAAAAAAAAAIQBvSY9zKc3s/AAAAAAAAJEAAAAAAAAAIQOp73mbXz3Q/AAAAAAAAI0AAAAAAAAAIQOE7EwHLr3A/AAAAAAAAIEAAAAAAAAAIQP0B+QI8jnE/AAAAAAAAHkAAAAAAAAAIQAMsiOEe53U/AAAAAAAAIUAAAAAAAAAIQF+G40/ljXI/AAAAAAAAHEAAAAAAAAAIQJLOewhPG20/AAAAAAAAGkAAAAAAAAAIQKbSCl3SNWM/AAAAAAAAFkAAAAAAAAAIQHNuFqkHAHg/AAAAAAAAGEAAAAAAAAAIQGQCAJQddmE/AAAAAAAAFEAAAAAAAAAIQAsO5siVcGg/AAAAAAAAEEAAAAAAAAAIQDr0BokT3W8/AAAAAAAAEkAAAAAAAAAIQLw7VwcPdD4/AAAAAAAADEAAAAAAAAAIQNOnW/e44Gs/",
          "dtype": "f8",
          "shape": "14, 3"
         },
         "hovertemplate": "<b>%{fullData.name}</b><br>λ: %{customdata[0]}<br>Mean spikes: %{x:.6f} ± %{customdata[2]:.6f}<br>Accuracy: %{y:.2f}% (mean ± SEM shown)<br>Seeds: %{customdata[1]}<extra></extra>",
         "legendgroup": "SNN_recurrent_delays",
         "line": {
          "color": "#AB63FA",
          "width": 2
         },
         "marker": {
          "color": "#AB63FA",
          "size": 6
         },
         "mode": "lines+markers",
         "name": "SNN_recurrent_delays",
         "type": "scatter",
         "x": {
          "bdata": "xMPIl2Z0rT+hiMQDXH2uPwl4zAazV68/vQMQifQ6sD+S0TN6RdqwP2f9sWRFbrE/1fC8KeTzsT+z8o+2afixP3Mj6kBNSrM/tf0HOvuIsz857FuE41i0P2ftbbrGz7Q/C5tfanD7tD99XatUMDu2Pw==",
          "dtype": "f8"
         },
         "y": {
          "bdata": "3THCLzi3UUB4jPALDu5RQE1bXCEJBFFAbQgoPmeDUkDIzaYtrvNSQI8RfsEBy1FAfSpf2R15U0CRyZKOemlTQGiY/qN1LlNAIBYpA0/TU0Dx0PXklJtTQOJFYWPt8lNAvRuZLOlyVEAvob2E9t9TQA==",
          "dtype": "f8"
         }
        }
       ],
       "layout": {
        "hovermode": "x unified",
        "legend": {
         "title": {
          "text": "Model"
         }
        },
        "template": {
         "data": {
          "bar": [
           {
            "error_x": {
             "color": "#2a3f5f"
            },
            "error_y": {
             "color": "#2a3f5f"
            },
            "marker": {
             "line": {
              "color": "white",
              "width": 0.5
             },
             "pattern": {
              "fillmode": "overlay",
              "size": 10,
              "solidity": 0.2
             }
            },
            "type": "bar"
           }
          ],
          "barpolar": [
           {
            "marker": {
             "line": {
              "color": "white",
              "width": 0.5
             },
             "pattern": {
              "fillmode": "overlay",
              "size": 10,
              "solidity": 0.2
             }
            },
            "type": "barpolar"
           }
          ],
          "carpet": [
           {
            "aaxis": {
             "endlinecolor": "#2a3f5f",
             "gridcolor": "#C8D4E3",
             "linecolor": "#C8D4E3",
             "minorgridcolor": "#C8D4E3",
             "startlinecolor": "#2a3f5f"
            },
            "baxis": {
             "endlinecolor": "#2a3f5f",
             "gridcolor": "#C8D4E3",
             "linecolor": "#C8D4E3",
             "minorgridcolor": "#C8D4E3",
             "startlinecolor": "#2a3f5f"
            },
            "type": "carpet"
           }
          ],
          "choropleth": [
           {
            "colorbar": {
             "outlinewidth": 0,
             "ticks": ""
            },
            "type": "choropleth"
           }
          ],
          "contour": [
           {
            "colorbar": {
             "outlinewidth": 0,
             "ticks": ""
            },
            "colorscale": [
             [
              0,
              "#0d0887"
             ],
             [
              0.1111111111111111,
              "#46039f"
             ],
             [
              0.2222222222222222,
              "#7201a8"
             ],
             [
              0.3333333333333333,
              "#9c179e"
             ],
             [
              0.4444444444444444,
              "#bd3786"
             ],
             [
              0.5555555555555556,
              "#d8576b"
             ],
             [
              0.6666666666666666,
              "#ed7953"
             ],
             [
              0.7777777777777778,
              "#fb9f3a"
             ],
             [
              0.8888888888888888,
              "#fdca26"
             ],
             [
              1,
              "#f0f921"
             ]
            ],
            "type": "contour"
           }
          ],
          "contourcarpet": [
           {
            "colorbar": {
             "outlinewidth": 0,
             "ticks": ""
            },
            "type": "contourcarpet"
           }
          ],
          "heatmap": [
           {
            "colorbar": {
             "outlinewidth": 0,
             "ticks": ""
            },
            "colorscale": [
             [
              0,
              "#0d0887"
             ],
             [
              0.1111111111111111,
              "#46039f"
             ],
             [
              0.2222222222222222,
              "#7201a8"
             ],
             [
              0.3333333333333333,
              "#9c179e"
             ],
             [
              0.4444444444444444,
              "#bd3786"
             ],
             [
              0.5555555555555556,
              "#d8576b"
             ],
             [
              0.6666666666666666,
              "#ed7953"
             ],
             [
              0.7777777777777778,
              "#fb9f3a"
             ],
             [
              0.8888888888888888,
              "#fdca26"
             ],
             [
              1,
              "#f0f921"
             ]
            ],
            "type": "heatmap"
           }
          ],
          "histogram": [
           {
            "marker": {
             "pattern": {
              "fillmode": "overlay",
              "size": 10,
              "solidity": 0.2
             }
            },
            "type": "histogram"
           }
          ],
          "histogram2d": [
           {
            "colorbar": {
             "outlinewidth": 0,
             "ticks": ""
            },
            "colorscale": [
             [
              0,
              "#0d0887"
             ],
             [
              0.1111111111111111,
              "#46039f"
             ],
             [
              0.2222222222222222,
              "#7201a8"
             ],
             [
              0.3333333333333333,
              "#9c179e"
             ],
             [
              0.4444444444444444,
              "#bd3786"
             ],
             [
              0.5555555555555556,
              "#d8576b"
             ],
             [
              0.6666666666666666,
              "#ed7953"
             ],
             [
              0.7777777777777778,
              "#fb9f3a"
             ],
             [
              0.8888888888888888,
              "#fdca26"
             ],
             [
              1,
              "#f0f921"
             ]
            ],
            "type": "histogram2d"
           }
          ],
          "histogram2dcontour": [
           {
            "colorbar": {
             "outlinewidth": 0,
             "ticks": ""
            },
            "colorscale": [
             [
              0,
              "#0d0887"
             ],
             [
              0.1111111111111111,
              "#46039f"
             ],
             [
              0.2222222222222222,
              "#7201a8"
             ],
             [
              0.3333333333333333,
              "#9c179e"
             ],
             [
              0.4444444444444444,
              "#bd3786"
             ],
             [
              0.5555555555555556,
              "#d8576b"
             ],
             [
              0.6666666666666666,
              "#ed7953"
             ],
             [
              0.7777777777777778,
              "#fb9f3a"
             ],
             [
              0.8888888888888888,
              "#fdca26"
             ],
             [
              1,
              "#f0f921"
             ]
            ],
            "type": "histogram2dcontour"
           }
          ],
          "mesh3d": [
           {
            "colorbar": {
             "outlinewidth": 0,
             "ticks": ""
            },
            "type": "mesh3d"
           }
          ],
          "parcoords": [
           {
            "line": {
             "colorbar": {
              "outlinewidth": 0,
              "ticks": ""
             }
            },
            "type": "parcoords"
           }
          ],
          "pie": [
           {
            "automargin": true,
            "type": "pie"
           }
          ],
          "scatter": [
           {
            "fillpattern": {
             "fillmode": "overlay",
             "size": 10,
             "solidity": 0.2
            },
            "type": "scatter"
           }
          ],
          "scatter3d": [
           {
            "line": {
             "colorbar": {
              "outlinewidth": 0,
              "ticks": ""
             }
            },
            "marker": {
             "colorbar": {
              "outlinewidth": 0,
              "ticks": ""
             }
            },
            "type": "scatter3d"
           }
          ],
          "scattercarpet": [
           {
            "marker": {
             "colorbar": {
              "outlinewidth": 0,
              "ticks": ""
             }
            },
            "type": "scattercarpet"
           }
          ],
          "scattergeo": [
           {
            "marker": {
             "colorbar": {
              "outlinewidth": 0,
              "ticks": ""
             }
            },
            "type": "scattergeo"
           }
          ],
          "scattergl": [
           {
            "marker": {
             "colorbar": {
              "outlinewidth": 0,
              "ticks": ""
             }
            },
            "type": "scattergl"
           }
          ],
          "scattermap": [
           {
            "marker": {
             "colorbar": {
              "outlinewidth": 0,
              "ticks": ""
             }
            },
            "type": "scattermap"
           }
          ],
          "scattermapbox": [
           {
            "marker": {
             "colorbar": {
              "outlinewidth": 0,
              "ticks": ""
             }
            },
            "type": "scattermapbox"
           }
          ],
          "scatterpolar": [
           {
            "marker": {
             "colorbar": {
              "outlinewidth": 0,
              "ticks": ""
             }
            },
            "type": "scatterpolar"
           }
          ],
          "scatterpolargl": [
           {
            "marker": {
             "colorbar": {
              "outlinewidth": 0,
              "ticks": ""
             }
            },
            "type": "scatterpolargl"
           }
          ],
          "scatterternary": [
           {
            "marker": {
             "colorbar": {
              "outlinewidth": 0,
              "ticks": ""
             }
            },
            "type": "scatterternary"
           }
          ],
          "surface": [
           {
            "colorbar": {
             "outlinewidth": 0,
             "ticks": ""
            },
            "colorscale": [
             [
              0,
              "#0d0887"
             ],
             [
              0.1111111111111111,
              "#46039f"
             ],
             [
              0.2222222222222222,
              "#7201a8"
             ],
             [
              0.3333333333333333,
              "#9c179e"
             ],
             [
              0.4444444444444444,
              "#bd3786"
             ],
             [
              0.5555555555555556,
              "#d8576b"
             ],
             [
              0.6666666666666666,
              "#ed7953"
             ],
             [
              0.7777777777777778,
              "#fb9f3a"
             ],
             [
              0.8888888888888888,
              "#fdca26"
             ],
             [
              1,
              "#f0f921"
             ]
            ],
            "type": "surface"
           }
          ],
          "table": [
           {
            "cells": {
             "fill": {
              "color": "#EBF0F8"
             },
             "line": {
              "color": "white"
             }
            },
            "header": {
             "fill": {
              "color": "#C8D4E3"
             },
             "line": {
              "color": "white"
             }
            },
            "type": "table"
           }
          ]
         },
         "layout": {
          "annotationdefaults": {
           "arrowcolor": "#2a3f5f",
           "arrowhead": 0,
           "arrowwidth": 1
          },
          "autotypenumbers": "strict",
          "coloraxis": {
           "colorbar": {
            "outlinewidth": 0,
            "ticks": ""
           }
          },
          "colorscale": {
           "diverging": [
            [
             0,
             "#8e0152"
            ],
            [
             0.1,
             "#c51b7d"
            ],
            [
             0.2,
             "#de77ae"
            ],
            [
             0.3,
             "#f1b6da"
            ],
            [
             0.4,
             "#fde0ef"
            ],
            [
             0.5,
             "#f7f7f7"
            ],
            [
             0.6,
             "#e6f5d0"
            ],
            [
             0.7,
             "#b8e186"
            ],
            [
             0.8,
             "#7fbc41"
            ],
            [
             0.9,
             "#4d9221"
            ],
            [
             1,
             "#276419"
            ]
           ],
           "sequential": [
            [
             0,
             "#0d0887"
            ],
            [
             0.1111111111111111,
             "#46039f"
            ],
            [
             0.2222222222222222,
             "#7201a8"
            ],
            [
             0.3333333333333333,
             "#9c179e"
            ],
            [
             0.4444444444444444,
             "#bd3786"
            ],
            [
             0.5555555555555556,
             "#d8576b"
            ],
            [
             0.6666666666666666,
             "#ed7953"
            ],
            [
             0.7777777777777778,
             "#fb9f3a"
            ],
            [
             0.8888888888888888,
             "#fdca26"
            ],
            [
             1,
             "#f0f921"
            ]
           ],
           "sequentialminus": [
            [
             0,
             "#0d0887"
            ],
            [
             0.1111111111111111,
             "#46039f"
            ],
            [
             0.2222222222222222,
             "#7201a8"
            ],
            [
             0.3333333333333333,
             "#9c179e"
            ],
            [
             0.4444444444444444,
             "#bd3786"
            ],
            [
             0.5555555555555556,
             "#d8576b"
            ],
            [
             0.6666666666666666,
             "#ed7953"
            ],
            [
             0.7777777777777778,
             "#fb9f3a"
            ],
            [
             0.8888888888888888,
             "#fdca26"
            ],
            [
             1,
             "#f0f921"
            ]
           ]
          },
          "colorway": [
           "#636efa",
           "#EF553B",
           "#00cc96",
           "#ab63fa",
           "#FFA15A",
           "#19d3f3",
           "#FF6692",
           "#B6E880",
           "#FF97FF",
           "#FECB52"
          ],
          "font": {
           "color": "#2a3f5f"
          },
          "geo": {
           "bgcolor": "white",
           "lakecolor": "white",
           "landcolor": "white",
           "showlakes": true,
           "showland": true,
           "subunitcolor": "#C8D4E3"
          },
          "hoverlabel": {
           "align": "left"
          },
          "hovermode": "closest",
          "mapbox": {
           "style": "light"
          },
          "paper_bgcolor": "white",
          "plot_bgcolor": "white",
          "polar": {
           "angularaxis": {
            "gridcolor": "#EBF0F8",
            "linecolor": "#EBF0F8",
            "ticks": ""
           },
           "bgcolor": "white",
           "radialaxis": {
            "gridcolor": "#EBF0F8",
            "linecolor": "#EBF0F8",
            "ticks": ""
           }
          },
          "scene": {
           "xaxis": {
            "backgroundcolor": "white",
            "gridcolor": "#DFE8F3",
            "gridwidth": 2,
            "linecolor": "#EBF0F8",
            "showbackground": true,
            "ticks": "",
            "zerolinecolor": "#EBF0F8"
           },
           "yaxis": {
            "backgroundcolor": "white",
            "gridcolor": "#DFE8F3",
            "gridwidth": 2,
            "linecolor": "#EBF0F8",
            "showbackground": true,
            "ticks": "",
            "zerolinecolor": "#EBF0F8"
           },
           "zaxis": {
            "backgroundcolor": "white",
            "gridcolor": "#DFE8F3",
            "gridwidth": 2,
            "linecolor": "#EBF0F8",
            "showbackground": true,
            "ticks": "",
            "zerolinecolor": "#EBF0F8"
           }
          },
          "shapedefaults": {
           "line": {
            "color": "#2a3f5f"
           }
          },
          "ternary": {
           "aaxis": {
            "gridcolor": "#DFE8F3",
            "linecolor": "#A2B1C6",
            "ticks": ""
           },
           "baxis": {
            "gridcolor": "#DFE8F3",
            "linecolor": "#A2B1C6",
            "ticks": ""
           },
           "bgcolor": "white",
           "caxis": {
            "gridcolor": "#DFE8F3",
            "linecolor": "#A2B1C6",
            "ticks": ""
           }
          },
          "title": {
           "x": 0.05
          },
          "xaxis": {
           "automargin": true,
           "gridcolor": "#EBF0F8",
           "linecolor": "#EBF0F8",
           "ticks": "",
           "title": {
            "standoff": 15
           },
           "zerolinecolor": "#EBF0F8",
           "zerolinewidth": 2
          },
          "yaxis": {
           "automargin": true,
           "gridcolor": "#EBF0F8",
           "linecolor": "#EBF0F8",
           "ticks": "",
           "title": {
            "standoff": 15
           },
           "zerolinecolor": "#EBF0F8",
           "zerolinewidth": 2
          }
         }
        },
        "title": {
         "text": "Accuracy vs. mean spike rate (per neuron · per timestep)\n(mean ± s.e.m. over seeds)"
        },
        "xaxis": {
         "range": [
          0.02503429355281203,
          0.09
         ],
         "title": {
          "text": "Mean spikes per neuron per timestep"
         }
        },
        "yaxis": {
         "linecolor": "black",
         "linewidth": 2,
         "showline": true,
         "tickcolor": "black",
         "ticklen": 6,
         "ticks": "outside",
         "tickwidth": 1.5,
         "title": {
          "text": "Test accuracy (%)"
         }
        }
       }
      }
     },
     "metadata": {},
     "output_type": "display_data"
    }
   ],
   "source": [
    "csv_path = None # e.g \"../exp/..\" : the path to the CSV file with SHD_penalize_spikes results\n",
    "figure_path = \"../figures/\"\n",
    "use_log_x = False\n",
    "\n",
    "x_limit = 0.09         \n",
    "models_to_plot = ['SNN', 'SNN_recurrent_delays', 'SNN_feedforward_delays']  \n",
    "\n",
    "df = pd.read_csv(csv_path)\n",
    "\n",
    "need_cols = [\"model\", \"seed\", \"lambda_spike\", \"final_test_acc\", \"mean_spikes_test\"]\n",
    "missing = [c for c in need_cols if c not in df.columns]\n",
    "if missing:\n",
    "    raise ValueError(f\"CSV is missing required columns: {missing}\")\n",
    "\n",
    "df = df.dropna(subset=need_cols)\n",
    "df = df.sort_index().drop_duplicates(subset=[\"model\", \"lambda_spike\", \"seed\"], keep=\"last\")\n",
    "\n",
    "grp = (\n",
    "    df.groupby([\"model\", \"lambda_spike\"])\n",
    "      .agg(\n",
    "          n=(\"seed\", \"nunique\"),\n",
    "          mean_acc=(\"final_test_acc\", \"mean\"),\n",
    "          std_acc=(\"final_test_acc\", \"std\"),\n",
    "          mean_spk=(\"mean_spikes_test\", \"mean\"),\n",
    "          std_spk=(\"mean_spikes_test\", \"std\"),\n",
    "      )\n",
    "      .reset_index()\n",
    ")\n",
    "\n",
    "grp[\"sem_acc\"] = grp.apply(\n",
    "    lambda r: 0.0 if (pd.isna(r[\"std_acc\"]) or r[\"n\"] <= 1) else r[\"std_acc\"] / math.sqrt(r[\"n\"]),\n",
    "    axis=1\n",
    ")\n",
    "grp[\"sem_spk\"] = grp.apply(\n",
    "    lambda r: 0.0 if (pd.isna(r[\"std_spk\"]) or r[\"n\"] <= 1) else r[\"std_spk\"] / math.sqrt(r[\"n\"]),\n",
    "    axis=1\n",
    ")\n",
    "\n",
    "acc_in_pct = grp[\"mean_acc\"].max() > 1.001\n",
    "if acc_in_pct:\n",
    "    grp[\"mean_acc_plot\"] = grp[\"mean_acc\"]\n",
    "    grp[\"sem_acc_plot\"]  = grp[\"sem_acc\"]\n",
    "    yaxis_title = \"Test accuracy (%)\"\n",
    "else:\n",
    "    grp[\"mean_acc_plot\"] = 100.0 * grp[\"mean_acc\"]\n",
    "    grp[\"sem_acc_plot\"]  = 100.0 * grp[\"sem_acc\"]\n",
    "    yaxis_title = \"Test accuracy (%)\"\n",
    "\n",
    "grp = grp.sort_values([\"model\", \"mean_spk\"]).reset_index(drop=True)\n",
    "\n",
    "if models_to_plot is not None:\n",
    "    models_to_plot = set(models_to_plot)\n",
    "    grp = grp[grp[\"model\"].isin(models_to_plot)].copy()\n",
    "    \n",
    "if x_limit is not None:\n",
    "    grp = grp[grp[\"mean_spk\"] <= float(x_limit)].copy()\n",
    "    \n",
    "grp = grp.sort_values([\"model\", \"mean_spk\"]).reset_index(drop=True)\n",
    "\n",
    "def hex_to_rgba(hx, alpha=0.18):\n",
    "    hx = hx.lstrip(\"#\")\n",
    "    r, g, b = int(hx[0:2], 16), int(hx[2:4], 16), int(hx[4:6], 16)\n",
    "    return f\"rgba({r},{g},{b},{alpha})\"\n",
    "\n",
    "fig = go.Figure()\n",
    "palette = px.colors.qualitative.Plotly\n",
    "models = grp[\"model\"].unique()\n",
    "\n",
    "for i, model in enumerate(models):\n",
    "    g = grp[grp[\"model\"] == model].sort_values(\"mean_spk\")\n",
    "    if g.empty:\n",
    "        continue  \n",
    "\n",
    "    color = palette[i % len(palette)]\n",
    "    band = hex_to_rgba(color, 0.20)\n",
    "\n",
    "    x = g[\"mean_spk\"].to_numpy()\n",
    "    y = g[\"mean_acc_plot\"].to_numpy()\n",
    "    sem_y = g[\"sem_acc_plot\"].to_numpy()\n",
    "\n",
    "    if x.size == 0:\n",
    "        continue\n",
    "\n",
    "    x_band = np.concatenate([x, x[::-1]])\n",
    "    y_band = np.concatenate([np.clip(y - sem_y, 0, 100), np.clip(y + sem_y, 0, 100)[::-1]])\n",
    "    fig.add_trace(go.Scatter(\n",
    "        x=x_band, y=y_band,\n",
    "        fill=\"toself\", fillcolor=band,\n",
    "        line=dict(width=0),\n",
    "        hoverinfo=\"skip\",\n",
    "        showlegend=False,\n",
    "        legendgroup=model\n",
    "    ))\n",
    "\n",
    "    fig.add_trace(go.Scatter(\n",
    "        x=x, y=y,\n",
    "        mode=\"lines+markers\",\n",
    "        name=model,\n",
    "        line=dict(color=color, width=2),\n",
    "        marker=dict(color=color, size=6),\n",
    "        legendgroup=model,\n",
    "        customdata=np.stack([g[\"lambda_spike\"], g[\"n\"], g[\"sem_spk\"]], axis=1),\n",
    "        hovertemplate=(\n",
    "            \"<b>%{fullData.name}</b><br>\"\n",
    "            \"λ: %{customdata[0]}<br>\"\n",
    "            \"Mean spikes: %{x:.6f} ± %{customdata[2]:.6f}<br>\"\n",
    "            \"Accuracy: %{y:.2f}% (mean ± SEM shown)<br>\"\n",
    "            \"Seeds: %{customdata[1]}<extra></extra>\"\n",
    "        ),\n",
    "    ))\n",
    "\n",
    "fig.update_layout(\n",
    "    title=\"Accuracy vs. mean spike rate (per neuron · per timestep)\\n(mean ± s.e.m. over seeds)\",\n",
    "    xaxis_title=\"Mean spikes per neuron per timestep\",\n",
    "    yaxis_title=yaxis_title,\n",
    "    legend_title=\"Model\",\n",
    "    hovermode=\"x unified\",\n",
    "    template=\"plotly_white\",\n",
    ")\n",
    "\n",
    "if use_log_x:\n",
    "    fig.update_xaxes(type=\"log\")\n",
    "    if x_limit is not None and not grp.empty:\n",
    "        pos_x = grp.loc[grp[\"mean_spk\"] > 0, \"mean_spk\"]\n",
    "        if not pos_x.empty:\n",
    "            xmin = pos_x.min()\n",
    "            fig.update_xaxes(range=[np.log10(xmin), np.log10(x_limit)])\n",
    "else:\n",
    "    if x_limit is not None and not grp.empty:\n",
    "        xmin = grp[\"mean_spk\"].min()\n",
    "        fig.update_xaxes(range=[xmin - 0.002, x_limit])\n",
    "\n",
    "fig.update_yaxes(\n",
    "    ticks=\"outside\", ticklen=6, tickwidth=1.5, tickcolor=\"black\",\n",
    "    showline=True, linecolor=\"black\", linewidth=2\n",
    ")\n",
    "\n",
    "os.makedirs(figure_path, exist_ok=True)\n",
    "\n",
    "svg_path = os.path.join(os.path.dirname(figure_path), \"accuracy_vs_spikes.svg\")\n",
    "fig.write_image(svg_path, format=\"svg\", width=800, height=600, scale=1)\n",
    "print(f\"Saved SVG to: {svg_path}\")\n",
    "fig.show()"
   ]
  }
 ],
 "metadata": {
  "kernelspec": {
   "display_name": "py310",
   "language": "python",
   "name": "python3"
  },
  "language_info": {
   "codemirror_mode": {
    "name": "ipython",
    "version": 3
   },
   "file_extension": ".py",
   "mimetype": "text/x-python",
   "name": "python",
   "nbconvert_exporter": "python",
   "pygments_lexer": "ipython3",
   "version": "3.10.14"
  }
 },
 "nbformat": 4,
 "nbformat_minor": 2
}
